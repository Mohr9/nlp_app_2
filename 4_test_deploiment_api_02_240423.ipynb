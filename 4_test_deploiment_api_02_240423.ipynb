{
 "cells": [
  {
   "cell_type": "markdown",
   "id": "968c6720",
   "metadata": {},
   "source": [
    "# Ceci est un notebook qui a servi de test avant la création du fichier app.py"
   ]
  },
  {
   "cell_type": "code",
   "execution_count": 65,
   "id": "05a78458",
   "metadata": {},
   "outputs": [],
   "source": [
    "#importation des packages de base :\n",
    "\n",
    "import pandas as pd\n",
    "import numpy as np\n",
    "import streamlit as st\n",
    "\n",
    "\n",
    "#import package nécessaire au prétraitement de texte :\n",
    "\n",
    "from bs4 import BeautifulSoup\n",
    "\n",
    "import nltk \n",
    "from nltk.stem import WordNetLemmatizer, PorterStemmer\n",
    "from nltk.tokenize import word_tokenize, wordpunct_tokenize, RegexpTokenizer\n",
    "from nltk.corpus import words, stopwords\n",
    "\n",
    "#import des packages pour la prédiction :\n",
    "\n",
    "from sklearn.preprocessing import MultiLabelBinarizer\n",
    "from sklearn.model_selection import train_test_split\n",
    "from sklearn.multiclass import OneVsRestClassifier\n",
    "\n",
    "#import modeles : \n",
    "from sklearn.linear_model import  SGDClassifier\n",
    "#import bag of words : \n",
    "from sklearn.feature_extraction.text import CountVectorizer \n",
    "\n",
    "\n",
    "#import pour charger fichier : \n",
    "import pickle\n",
    "\n",
    "#import package mise en page : \n",
    "from PIL import Image"
   ]
  },
  {
   "cell_type": "raw",
   "id": "28626c01",
   "metadata": {},
   "source": [
    "pip freeze > requier.txt"
   ]
  },
  {
   "cell_type": "markdown",
   "id": "d15f023f",
   "metadata": {},
   "source": [
    "# Organisation du notebook : \n",
    "\n",
    "### 1. Déclaration des fonctions nécessaire à notre modèle de prédiction\n",
    "### 2. Mise en page de l'API avec le module Streamlite\n",
    "### 3. Zone de test pour vérifier le bon fonctionnement de l'application\n",
    "\n",
    "Seul les 1. et 2. seront transférés"
   ]
  },
  {
   "cell_type": "code",
   "execution_count": 66,
   "id": "af723c36",
   "metadata": {},
   "outputs": [],
   "source": [
    "#### Chargement des fichiers : \n",
    "toptag = pickle.load(open(\"toptag.pkl\",\"rb\"))\n",
    "\n",
    "eng_words = pickle.load(open(\"eng_words\",\"rb\"))\n",
    "\n",
    "sgd = pickle.load(open(\"sgd\",\"rb\"))\n",
    "\n",
    "mlb = pickle.load(open(\"mlb\",\"rb\"))\n",
    "\n",
    "vect = pickle.load(open(\"vect\",\"rb\"))"
   ]
  },
  {
   "cell_type": "markdown",
   "id": "f928b4ab",
   "metadata": {},
   "source": [
    "# 1. Déclaration des fonctions :"
   ]
  },
  {
   "cell_type": "code",
   "execution_count": 98,
   "id": "d10d685b",
   "metadata": {},
   "outputs": [],
   "source": [
    "###### Fonctions prétraitement de texte  : \n",
    "\n",
    "########### Fonction 1 : ###########\n",
    "####################################\n",
    "\n",
    "#fonction suppression des balises html : \n",
    "\n",
    "def clean_balise(text):\n",
    "    soup = BeautifulSoup(text, 'html.parser')\n",
    "    clean_text = soup.get_text()\n",
    "    return clean_text\n",
    "    \n",
    "########### Fonction 2 : ###########\n",
    "####################################\n",
    "\n",
    "\n",
    "def preprocessing(txt, list_rare_words = None,\n",
    "                  format_txt=False):\n",
    "\n",
    "    \"\"\"\n",
    "    txt : contient le document au format str qui subira le preprocessing\n",
    "    format_txt : Si True cela renvoie une chaine de caractère, sinon une liste\n",
    "    list_rare_words : liste de token a fournir si on souhaite les supprimer\n",
    "    \"\"\"\n",
    "    #tokenization et separation de la ponctuation\n",
    "    tokens = nltk.wordpunct_tokenize(txt)\n",
    "    \n",
    "    #suppression ponctuation\n",
    "    tokenizer = RegexpTokenizer(r\"\\w+\")\n",
    "    tokens = tokenizer.tokenize(txt)\n",
    "    \n",
    "    #suppression majuscule : \n",
    "    tokens = [w.lower() for w in tokens]\n",
    "    \n",
    "        \n",
    "    #suppression des chiffres : \n",
    "    tokens = [w for w in tokens if not w.isnumeric()]\n",
    "\n",
    "    \n",
    "    #suppression stopwords : \n",
    "    stopw = nltk.corpus.stopwords.words(\"english\")\n",
    "    tokens = [w for w in tokens if w not in stopw]\n",
    "\n",
    "    #Supprime les tokens fournie dans la liste en hyperparametres\n",
    "    if list_rare_words:\n",
    "        tokens = [w for w in tokens if w not in list_rare_words]      \n",
    "        \n",
    "    #Lemmatization des mots s'ils n'appartiennent pas a la liste toptag : \n",
    "    lemm = WordNetLemmatizer()\n",
    "    tmp_list = []\n",
    "\n",
    "    for i in tokens:\n",
    "        if i not in toptag: #si le token n'est pas dans la toptag liste alors on le lemmatize\n",
    "            tmp_list.append(lemm.lemmatize(i))\n",
    "        else: #sinon on conserve le token tel quel\n",
    "            tmp_list.append(i)\n",
    "    \n",
    "    #Suppression des mots token qui ne sont pas des mots dans le dictionnaire anglais \n",
    "    #OU qui ne sont pas dans la liste des top tags à conserver :\n",
    "    \n",
    "    tokens = [w for w in tmp_list if w in eng_words or w in toptag]    \n",
    "        \n",
    "    if format_txt:\n",
    "        tokens = \" \".join(tokens)\n",
    "    return tokens\n",
    "\n",
    "\n",
    "########### Fonction 3 : ###########\n",
    "####################################\n",
    "\n",
    "\n",
    "#fonction d'application de notre prétraitement de texte :\n",
    "def cleaning(doc):\n",
    "    new_doc = preprocessing(doc, \n",
    "                            list_rare_words = None, \n",
    "                            format_txt=True, \n",
    "                             )\n",
    "    return new_doc"
   ]
  },
  {
   "cell_type": "code",
   "execution_count": 90,
   "id": "cb3c3ad5",
   "metadata": {},
   "outputs": [],
   "source": [
    "def BoW(text):#le text doit etre une chaine de caractère en entrée\n",
    "    sentence = vect.transform([text])#ensuite on le met dans une seule liste (et non en split)\n",
    "    cv_sentence= pd.DataFrame(sentence.toarray(),columns=vect.get_feature_names_out()) #récupération du dataframe du bow\n",
    "    return cv_sentence"
   ]
  },
  {
   "cell_type": "code",
   "execution_count": 114,
   "id": "eccf6122",
   "metadata": {},
   "outputs": [],
   "source": [
    "### Fonction qui, à partir du texte rentré par l'utilisateur, va retourner une prédiction de tag :\n",
    "\n",
    "def applying(text):\n",
    "    text = clean_balise(text) #utilisation des fonctions 2 de prétraitement de texte\n",
    "    text = cleaning(text)#ici le text devient une chaine de caractère\n",
    "    text = BoW(text) # transformation du texte en feature compatible avec notre modèle de prédiction\n",
    "    prediction = sgd.predict(text) #prediction du texte\n",
    "    tag_pred = mlb.inverse_transform(prediction) #transformation de la target binarizée en target lisible \n",
    "\n",
    "    return tag_pred #affichage des tags prédits"
   ]
  },
  {
   "cell_type": "code",
   "execution_count": 94,
   "id": "5d85d1df",
   "metadata": {
    "scrolled": true
   },
   "outputs": [
    {
     "data": {
      "text/plain": [
       "'engineering professional like use python java'"
      ]
     },
     "execution_count": 94,
     "metadata": {},
     "output_type": "execute_result"
    }
   ],
   "source": [
    "cleaning(\"i am an engineering professional who like use python and java\")"
   ]
  },
  {
   "cell_type": "markdown",
   "id": "49bbc55d",
   "metadata": {},
   "source": [
    "# 2. Mise en page"
   ]
  },
  {
   "cell_type": "code",
   "execution_count": null,
   "id": "8a255c8b",
   "metadata": {},
   "outputs": [],
   "source": [
    "# Titre : \n",
    "st.title(\"Keyword prediction tool Stackoverflow \") \n",
    "\n",
    "\n",
    "# Données entrées par l'utilisateur :\n",
    "Title_input = st.text_input(\"Write the title of your request below\")\n",
    "input_body_utilisateurs = st.text_input(\"Enter the content of your request below \")\n",
    "\n",
    "#Réponse de notre modèle : \n",
    "\n",
    "reponse = applying(input_body_utilisateurs)\n",
    "st.text(reponse)\n",
    "\n",
    "### Ajout d'une image :\n",
    "image = Image.open('logo.png')\n",
    "\n"
   ]
  },
  {
   "cell_type": "markdown",
   "id": "f88f932f",
   "metadata": {},
   "source": [
    " ## TEST ZONE"
   ]
  },
  {
   "cell_type": "markdown",
   "id": "fadf4663",
   "metadata": {},
   "source": [
    "##### Testons d'abord les fonctions de preprocessing et de bag of words :\n"
   ]
  },
  {
   "cell_type": "code",
   "execution_count": 99,
   "id": "2d548716",
   "metadata": {},
   "outputs": [
    {
     "data": {
      "text/plain": [
       "'engineering professional like use python java'"
      ]
     },
     "execution_count": 99,
     "metadata": {},
     "output_type": "execute_result"
    }
   ],
   "source": [
    "text_prep = cleaning(\"i am an engineering professional who like use python and java\")\n",
    "text_prep\n",
    "#ok pour preprocessing"
   ]
  },
  {
   "cell_type": "code",
   "execution_count": 100,
   "id": "61de1f47",
   "metadata": {},
   "outputs": [
    {
     "data": {
      "text/html": [
       "<div>\n",
       "<style scoped>\n",
       "    .dataframe tbody tr th:only-of-type {\n",
       "        vertical-align: middle;\n",
       "    }\n",
       "\n",
       "    .dataframe tbody tr th {\n",
       "        vertical-align: top;\n",
       "    }\n",
       "\n",
       "    .dataframe thead th {\n",
       "        text-align: right;\n",
       "    }\n",
       "</style>\n",
       "<table border=\"1\" class=\"dataframe\">\n",
       "  <thead>\n",
       "    <tr style=\"text-align: right;\">\n",
       "      <th></th>\n",
       "      <th>ability</th>\n",
       "      <th>able</th>\n",
       "      <th>abort</th>\n",
       "      <th>aborted</th>\n",
       "      <th>absolute</th>\n",
       "      <th>absolutely</th>\n",
       "      <th>abstract</th>\n",
       "      <th>abstraction</th>\n",
       "      <th>abuse</th>\n",
       "      <th>accept</th>\n",
       "      <th>...</th>\n",
       "      <th>yield</th>\n",
       "      <th>york</th>\n",
       "      <th>young</th>\n",
       "      <th>youtube</th>\n",
       "      <th>zed</th>\n",
       "      <th>zero</th>\n",
       "      <th>zip</th>\n",
       "      <th>zombie</th>\n",
       "      <th>zone</th>\n",
       "      <th>zoom</th>\n",
       "    </tr>\n",
       "  </thead>\n",
       "  <tbody>\n",
       "    <tr>\n",
       "      <th>0</th>\n",
       "      <td>0</td>\n",
       "      <td>0</td>\n",
       "      <td>0</td>\n",
       "      <td>0</td>\n",
       "      <td>0</td>\n",
       "      <td>0</td>\n",
       "      <td>0</td>\n",
       "      <td>0</td>\n",
       "      <td>0</td>\n",
       "      <td>0</td>\n",
       "      <td>...</td>\n",
       "      <td>0</td>\n",
       "      <td>0</td>\n",
       "      <td>0</td>\n",
       "      <td>0</td>\n",
       "      <td>0</td>\n",
       "      <td>0</td>\n",
       "      <td>0</td>\n",
       "      <td>0</td>\n",
       "      <td>0</td>\n",
       "      <td>0</td>\n",
       "    </tr>\n",
       "  </tbody>\n",
       "</table>\n",
       "<p>1 rows × 3228 columns</p>\n",
       "</div>"
      ],
      "text/plain": [
       "   ability  able  abort  aborted  absolute  absolutely  abstract  abstraction  \\\n",
       "0        0     0      0        0         0           0         0            0   \n",
       "\n",
       "   abuse  accept  ...  yield  york  young  youtube  zed  zero  zip  zombie  \\\n",
       "0      0       0  ...      0     0      0        0    0     0    0       0   \n",
       "\n",
       "   zone  zoom  \n",
       "0     0     0  \n",
       "\n",
       "[1 rows x 3228 columns]"
      ]
     },
     "execution_count": 100,
     "metadata": {},
     "output_type": "execute_result"
    }
   ],
   "source": [
    "BoW(text_prep)\n",
    "#ok pour la transformation en BoW"
   ]
  },
  {
   "cell_type": "markdown",
   "id": "921c8826",
   "metadata": {},
   "source": [
    "##### Testons maintenant notre fonction applying qui, a partir  du BoW créé, doit nous renvoyer une prédiction de tag"
   ]
  },
  {
   "cell_type": "markdown",
   "id": "54b71dd9",
   "metadata": {},
   "source": [
    "### Testons sur différentes phrases :"
   ]
  },
  {
   "cell_type": "code",
   "execution_count": 101,
   "id": "573dc17f",
   "metadata": {},
   "outputs": [],
   "source": [
    "test = \"I use to like coding with python, java or c++\"\n",
    "test2 = 'This is a test. I can program in c++, java and R'\n",
    "test3 = \"expert python could someone explain problem like collect supervisor http made different script print output bash php collect output without problem python work sh bin php php sleep echo test sh bin bash sleep echo item done sh test print output bin import time import import range time sleep print test write test print test supervisor file bash program command home user sh home user log php program command home user sh home user log python program command home user sh home user log thank much help driving crazy\"\n",
    "test4 = 'question whether use guarantee visibility field respect synchronized example following class field need declared volatile synchronized used class private double public synchronized void method double temp temp temp example using however volatile field necessary class b private final lock new private volatile double public void method lock lock try double temp temp temp finally lock know using volatile anyway likely impose performance would still like code correctly'\n",
    "test5 = pickle.load(open(\"ex_prediction\",\"rb\"))\n",
    "test6 = \"new webpack struggling convert css minify file structure public css j j css css css map main css main css map main j j j like dev webpack mode development public j j output public j j build webpack mode production public j j output public j j found thing like cant make work webpack j module export module rule test use option minimize true dont know path included file path output advice\""
   ]
  },
  {
   "cell_type": "code",
   "execution_count": 102,
   "id": "93ddc1dd",
   "metadata": {},
   "outputs": [
    {
     "data": {
      "text/plain": [
       "'I use to like coding with python, java or c++'"
      ]
     },
     "execution_count": 102,
     "metadata": {},
     "output_type": "execute_result"
    }
   ],
   "source": [
    "test"
   ]
  },
  {
   "cell_type": "code",
   "execution_count": 103,
   "id": "77e044a7",
   "metadata": {},
   "outputs": [
    {
     "data": {
      "text/plain": [
       "[()]"
      ]
     },
     "execution_count": 103,
     "metadata": {},
     "output_type": "execute_result"
    }
   ],
   "source": [
    "applying(test)"
   ]
  },
  {
   "cell_type": "code",
   "execution_count": 104,
   "id": "71680e02",
   "metadata": {},
   "outputs": [
    {
     "data": {
      "text/plain": [
       "'This is a test. I can program in c++, java and R'"
      ]
     },
     "execution_count": 104,
     "metadata": {},
     "output_type": "execute_result"
    }
   ],
   "source": [
    "test2"
   ]
  },
  {
   "cell_type": "code",
   "execution_count": 105,
   "id": "c6c2a43b",
   "metadata": {},
   "outputs": [
    {
     "data": {
      "text/plain": [
       "[()]"
      ]
     },
     "execution_count": 105,
     "metadata": {},
     "output_type": "execute_result"
    }
   ],
   "source": [
    "applying(test2)"
   ]
  },
  {
   "cell_type": "code",
   "execution_count": 106,
   "id": "cec067a8",
   "metadata": {},
   "outputs": [
    {
     "data": {
      "text/plain": [
       "'expert python could someone explain problem like collect supervisor http made different script print output bash php collect output without problem python work sh bin php php sleep echo test sh bin bash sleep echo item done sh test print output bin import time import import range time sleep print test write test print test supervisor file bash program command home user sh home user log php program command home user sh home user log python program command home user sh home user log thank much help driving crazy'"
      ]
     },
     "execution_count": 106,
     "metadata": {},
     "output_type": "execute_result"
    }
   ],
   "source": [
    "test3"
   ]
  },
  {
   "cell_type": "code",
   "execution_count": 107,
   "id": "a761afa3",
   "metadata": {},
   "outputs": [
    {
     "data": {
      "text/plain": [
       "[('python',)]"
      ]
     },
     "execution_count": 107,
     "metadata": {},
     "output_type": "execute_result"
    }
   ],
   "source": [
    "applying(test3)"
   ]
  },
  {
   "cell_type": "code",
   "execution_count": 108,
   "id": "be4e9540",
   "metadata": {},
   "outputs": [
    {
     "data": {
      "text/plain": [
       "'question whether use guarantee visibility field respect synchronized example following class field need declared volatile synchronized used class private double public synchronized void method double temp temp temp example using however volatile field necessary class b private final lock new private volatile double public void method lock lock try double temp temp temp finally lock know using volatile anyway likely impose performance would still like code correctly'"
      ]
     },
     "execution_count": 108,
     "metadata": {},
     "output_type": "execute_result"
    }
   ],
   "source": [
    "test4"
   ]
  },
  {
   "cell_type": "code",
   "execution_count": 109,
   "id": "522717d5",
   "metadata": {
    "scrolled": false
   },
   "outputs": [
    {
     "data": {
      "text/plain": [
       "[()]"
      ]
     },
     "execution_count": 109,
     "metadata": {},
     "output_type": "execute_result"
    }
   ],
   "source": [
    "applying(test4)"
   ]
  },
  {
   "cell_type": "code",
   "execution_count": 79,
   "id": "db8b3f4f",
   "metadata": {},
   "outputs": [
    {
     "data": {
      "text/plain": [
       "[('  c++',\n",
       "  '  css',\n",
       "  '  fonts',\n",
       "  '  java-native-interface',\n",
       "  '  loops',\n",
       "  '  parallel-processing',\n",
       "  '  sass',\n",
       "  '  webpack',\n",
       "  'javascript')]"
      ]
     },
     "execution_count": 79,
     "metadata": {},
     "output_type": "execute_result"
    }
   ],
   "source": [
    "#test 5 correspond a la valeur sgd\n",
    "mlb.inverse_transform(test5)"
   ]
  },
  {
   "cell_type": "code",
   "execution_count": 112,
   "id": "5539ef6b",
   "metadata": {},
   "outputs": [],
   "source": [
    "test6 = \"new webpack struggling convert css minify file structure public css j j css css css map main css main css map main j j j like dev webpack mode development public j j output public j j build webpack mode production public j j output public j j found thing like cant make work webpack j module export module rule test use option minimize true dont know path included file path output advice\""
   ]
  },
  {
   "cell_type": "code",
   "execution_count": 113,
   "id": "dc5fa3bc",
   "metadata": {},
   "outputs": [
    {
     "data": {
      "text/plain": [
       "[('  c++',\n",
       "  '  css',\n",
       "  '  fonts',\n",
       "  '  java-native-interface',\n",
       "  '  loops',\n",
       "  '  parallel-processing',\n",
       "  '  sass',\n",
       "  '  webpack',\n",
       "  'javascript')]"
      ]
     },
     "execution_count": 113,
     "metadata": {},
     "output_type": "execute_result"
    }
   ],
   "source": [
    "applying(test6)"
   ]
  }
 ],
 "metadata": {
  "kernelspec": {
   "display_name": "Python 3 (ipykernel)",
   "language": "python",
   "name": "python3"
  },
  "language_info": {
   "codemirror_mode": {
    "name": "ipython",
    "version": 3
   },
   "file_extension": ".py",
   "mimetype": "text/x-python",
   "name": "python",
   "nbconvert_exporter": "python",
   "pygments_lexer": "ipython3",
   "version": "3.8.13"
  }
 },
 "nbformat": 4,
 "nbformat_minor": 5
}
