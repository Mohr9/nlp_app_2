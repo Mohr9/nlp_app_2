{
 "cells": [
  {
   "cell_type": "code",
   "execution_count": 6,
   "id": "72c1b0a7",
   "metadata": {},
   "outputs": [],
   "source": [
    "import os\n",
    "\n",
    "#package de base\n",
    "import pandas as pd\n",
    "import numpy as np\n",
    "\n",
    "\n",
    "#package dataviz\n",
    "import seaborn as sns\n",
    "import matplotlib.pyplot as plt\n",
    "\n",
    "#packages nlp\n",
    "import nltk \n",
    "from wordcloud import WordCloud  #permet représentation graphique\n",
    "from nltk.stem import WordNetLemmatizer, PorterStemmer\n",
    "from nltk.tokenize import word_tokenize, wordpunct_tokenize, RegexpTokenizer\n",
    "from nltk.corpus import words, stopwords\n",
    "\n",
    "from bs4 import BeautifulSoup\n",
    "\n",
    "\n",
    "#package  machine learning : \n",
    "\n",
    "from sklearn.model_selection import train_test_split\n",
    "\n",
    "\n",
    "import pickle\n",
    "\n",
    "\n",
    "\n",
    "import warnings\n",
    "warnings.filterwarnings(\"ignore\")\n",
    "import os"
   ]
  },
  {
   "cell_type": "code",
   "execution_count": 7,
   "id": "88c0d1f2",
   "metadata": {},
   "outputs": [],
   "source": [
    "#Récupération du jeu de donnée : \n",
    "path = \"D:\\Formation_DataScience_Openclassroom\\\\02_projets\\\\05\\\\dataset\"\n",
    "df = pd.read_csv(path + \"\\\\QueryResults2.csv\")"
   ]
  },
  {
   "cell_type": "markdown",
   "id": "a7d711c8",
   "metadata": {},
   "source": [
    "# Plan : \n",
    "# 1. Exploration des données \n",
    "\n",
    "## 1.1 Origine des données\n",
    "- Source et code qui a permi de récupérer le jeu de données\n",
    "- Explication de la requête\n",
    "\n",
    "## 1.2. Découverte du jeu de données \n",
    "- Nous regarderons si nous avons pris un jeu de données compatible avec la problématique de départ : receuillir des questions pertinentes\n",
    "\n",
    "\n",
    "\n",
    "## 2. Nettoyage des données\n",
    "- D'abord nettoyer la colonne **Tags** (split) : \n",
    "    - on recupere l'ensemble des mots et on en fait une liste, ces mots devront être conservés afin de ne pas les modifier s'ils sont présent dans les colonnes title/body (afin d'adapter a notre contexte et objectif)\n",
    "- Title/Body via NLP :\n",
    "    - pour body, on nettoie d'abord les balises avec beautifulsoup (https://medium.com/mlearning-ai/3-ways-to-clean-your-html-text-for-nlp-text-pre-processing-70bc5b876445 methode 2) d'abord \n"
   ]
  },
  {
   "cell_type": "markdown",
   "id": "ebdfa05a",
   "metadata": {},
   "source": [
    "# 1.1 Origine des données\n",
    "- Les données ont été récupérées sur https://data.stackexchange.com/stackoverflow/query/edit/1744554#messages en utilisant le code suivant : \n",
    "- **SELECT TOP 10000** Id, Title, Body, Tags,  Score, ViewCount, FavoriteCount, AnswerCount\n",
    "- **FROM** Posts \n",
    "- **WHERE** PostTypeId = 1 \n",
    "- **AND** ViewCount > 10 \n",
    "- **AND** Score > 10 \n",
    "- **AND** AnswerCount > 0 \n",
    "- **AND** LEN(Tags) - LEN(REPLACE(Tags, '<','')) >= 5\n",
    "Contrairement a la requête initial, je n'ai pas mi de filtre sur \"AND FavoriteCount >10\" (= au moins 10 mise en favories de la question par les internautes)\n",
    "\n",
    "\n",
    "## Signification des colonnes : \n",
    "- Nous avons récupérer 10.000 lignes contenant les colonnes Id, Title, Body, Score, ViewCount, FavoriteCount, AnswerCount\n",
    "\n",
    "- **Id** : Identifiant de la colonne\n",
    "- **Title** : titre du topic \n",
    "- **Body** : corps du topic\n",
    "- **Tags** : balises\n",
    "- **Score** : question jugée comme pertinente par les internautes, elle provient de la différence entre le nombre de  vote positif et le nombre de vote négatif\n",
    "- **ViewCount** : nombre de vue\n",
    "- **favoritecount** : détermine une si une question est jugée comme favorite par les internaute\n",
    "- **Answercount** : question ayant eu au moins 1 réponse\n",
    "- **PostTypeId** : Type de post (= 1 signifie que ce sont des **questions**)\n",
    "\n",
    "##  Signification de la requête :\n",
    "\n",
    "- Il est important de comprendre les filtres utilisés dans notre requête afin de comprendre le résultat obtenu\n",
    "- L'objectif du projet est de recueillir des **questions pertinentes**,grâce à la condition PostTypeId = 1 on ne récupère que les questions.\n",
    "- Les conditions restantes :\n",
    "    - ViewCount > 10 : au moins 10 vues sur la question\n",
    "    - Score > 10 : au moins 10 personnes juges la question pertinentes  \n",
    "    - AnswerCount > 0 : au moins une réponse a été apportée\n",
    "    - Tags >= 5 : Récupération des lignes contenant au moins 5 balises\n",
    "    \n",
    "Avec cette requête nous recupererons des topics d'utilisateurs qui sont des questions qui ont été vue au moins 10 fois, jugés un minimum pertinentes, avec au moins une réponse apportée, et 5 tags ont été associée a la problématique"
   ]
  },
  {
   "cell_type": "markdown",
   "id": "a66e5845",
   "metadata": {},
   "source": [
    "## 1.2 Découverte du jeu de données "
   ]
  },
  {
   "cell_type": "code",
   "execution_count": 8,
   "id": "e3bf8af5",
   "metadata": {
    "scrolled": true
   },
   "outputs": [
    {
     "data": {
      "text/plain": [
       "(10000, 8)"
      ]
     },
     "execution_count": 8,
     "metadata": {},
     "output_type": "execute_result"
    }
   ],
   "source": [
    "df.shape\n",
    "#10.000 observations, 8 features"
   ]
  },
  {
   "cell_type": "code",
   "execution_count": 9,
   "id": "f5a88a16",
   "metadata": {},
   "outputs": [
    {
     "name": "stdout",
     "output_type": "stream",
     "text": [
      "<class 'pandas.core.frame.DataFrame'>\n",
      "RangeIndex: 10000 entries, 0 to 9999\n",
      "Data columns (total 8 columns):\n",
      " #   Column         Non-Null Count  Dtype  \n",
      "---  ------         --------------  -----  \n",
      " 0   Id             10000 non-null  int64  \n",
      " 1   Title          10000 non-null  object \n",
      " 2   Body           10000 non-null  object \n",
      " 3   Tags           10000 non-null  object \n",
      " 4   Score          10000 non-null  int64  \n",
      " 5   ViewCount      10000 non-null  int64  \n",
      " 6   FavoriteCount  9713 non-null   float64\n",
      " 7   AnswerCount    10000 non-null  int64  \n",
      "dtypes: float64(1), int64(4), object(3)\n",
      "memory usage: 625.1+ KB\n"
     ]
    }
   ],
   "source": [
    "df.info()"
   ]
  },
  {
   "cell_type": "code",
   "execution_count": 10,
   "id": "b8413db0",
   "metadata": {},
   "outputs": [
    {
     "data": {
      "text/html": [
       "<div>\n",
       "<style scoped>\n",
       "    .dataframe tbody tr th:only-of-type {\n",
       "        vertical-align: middle;\n",
       "    }\n",
       "\n",
       "    .dataframe tbody tr th {\n",
       "        vertical-align: top;\n",
       "    }\n",
       "\n",
       "    .dataframe thead th {\n",
       "        text-align: right;\n",
       "    }\n",
       "</style>\n",
       "<table border=\"1\" class=\"dataframe\">\n",
       "  <thead>\n",
       "    <tr style=\"text-align: right;\">\n",
       "      <th></th>\n",
       "      <th>Id</th>\n",
       "      <th>Title</th>\n",
       "      <th>Body</th>\n",
       "      <th>Tags</th>\n",
       "      <th>Score</th>\n",
       "      <th>ViewCount</th>\n",
       "      <th>FavoriteCount</th>\n",
       "      <th>AnswerCount</th>\n",
       "    </tr>\n",
       "  </thead>\n",
       "  <tbody>\n",
       "    <tr>\n",
       "      <th>0</th>\n",
       "      <td>20405346</td>\n",
       "      <td>Getting parent of a vertex in a perfect binary...</td>\n",
       "      <td>&lt;p&gt;I've got a &lt;a href=\"http://xlinux.nist.gov/...</td>\n",
       "      <td>&lt;algorithm&gt;&lt;data-structures&gt;&lt;tree&gt;&lt;binary-tree...</td>\n",
       "      <td>25</td>\n",
       "      <td>6114</td>\n",
       "      <td>0.0</td>\n",
       "      <td>6</td>\n",
       "    </tr>\n",
       "    <tr>\n",
       "      <th>1</th>\n",
       "      <td>1568557</td>\n",
       "      <td>How can I make the cursor turn to the wait cur...</td>\n",
       "      <td>&lt;p&gt;How can I display the Wait/Busy Cursor (usu...</td>\n",
       "      <td>&lt;c#&gt;&lt;.net&gt;&lt;winforms&gt;&lt;user-interface&gt;&lt;mouse-cur...</td>\n",
       "      <td>309</td>\n",
       "      <td>509053</td>\n",
       "      <td>0.0</td>\n",
       "      <td>11</td>\n",
       "    </tr>\n",
       "    <tr>\n",
       "      <th>2</th>\n",
       "      <td>1568658</td>\n",
       "      <td>HTML Tables - How to make IE not break lines a...</td>\n",
       "      <td>&lt;p&gt;I have some table cells containing dates fo...</td>\n",
       "      <td>&lt;html&gt;&lt;css&gt;&lt;html-table&gt;&lt;internet-explorer-7&gt;&lt;l...</td>\n",
       "      <td>14</td>\n",
       "      <td>11268</td>\n",
       "      <td>0.0</td>\n",
       "      <td>7</td>\n",
       "    </tr>\n",
       "    <tr>\n",
       "      <th>3</th>\n",
       "      <td>39530567</td>\n",
       "      <td>Python - Supervisor how to log the standard ou...</td>\n",
       "      <td>&lt;p&gt;I'm not expert about python, could someone ...</td>\n",
       "      <td>&lt;python&gt;&lt;linux&gt;&lt;python-3.x&gt;&lt;unix&gt;&lt;supervisord&gt;</td>\n",
       "      <td>11</td>\n",
       "      <td>12081</td>\n",
       "      <td>0.0</td>\n",
       "      <td>2</td>\n",
       "    </tr>\n",
       "    <tr>\n",
       "      <th>4</th>\n",
       "      <td>1569765</td>\n",
       "      <td>How to play audio file on windows from command...</td>\n",
       "      <td>&lt;p&gt;In Windows, is there a simple way (i.e. som...</td>\n",
       "      <td>&lt;windows&gt;&lt;command-line&gt;&lt;audio&gt;&lt;batch-file&gt;&lt;mp3&gt;</td>\n",
       "      <td>20</td>\n",
       "      <td>66747</td>\n",
       "      <td>0.0</td>\n",
       "      <td>11</td>\n",
       "    </tr>\n",
       "  </tbody>\n",
       "</table>\n",
       "</div>"
      ],
      "text/plain": [
       "         Id                                              Title  \\\n",
       "0  20405346  Getting parent of a vertex in a perfect binary...   \n",
       "1   1568557  How can I make the cursor turn to the wait cur...   \n",
       "2   1568658  HTML Tables - How to make IE not break lines a...   \n",
       "3  39530567  Python - Supervisor how to log the standard ou...   \n",
       "4   1569765  How to play audio file on windows from command...   \n",
       "\n",
       "                                                Body  \\\n",
       "0  <p>I've got a <a href=\"http://xlinux.nist.gov/...   \n",
       "1  <p>How can I display the Wait/Busy Cursor (usu...   \n",
       "2  <p>I have some table cells containing dates fo...   \n",
       "3  <p>I'm not expert about python, could someone ...   \n",
       "4  <p>In Windows, is there a simple way (i.e. som...   \n",
       "\n",
       "                                                Tags  Score  ViewCount  \\\n",
       "0  <algorithm><data-structures><tree><binary-tree...     25       6114   \n",
       "1  <c#><.net><winforms><user-interface><mouse-cur...    309     509053   \n",
       "2  <html><css><html-table><internet-explorer-7><l...     14      11268   \n",
       "3     <python><linux><python-3.x><unix><supervisord>     11      12081   \n",
       "4    <windows><command-line><audio><batch-file><mp3>     20      66747   \n",
       "\n",
       "   FavoriteCount  AnswerCount  \n",
       "0            0.0            6  \n",
       "1            0.0           11  \n",
       "2            0.0            7  \n",
       "3            0.0            2  \n",
       "4            0.0           11  "
      ]
     },
     "execution_count": 10,
     "metadata": {},
     "output_type": "execute_result"
    }
   ],
   "source": [
    "df.head()"
   ]
  },
  {
   "cell_type": "code",
   "execution_count": 11,
   "id": "c7e3dc46",
   "metadata": {},
   "outputs": [
    {
     "data": {
      "text/html": [
       "<div>\n",
       "<style scoped>\n",
       "    .dataframe tbody tr th:only-of-type {\n",
       "        vertical-align: middle;\n",
       "    }\n",
       "\n",
       "    .dataframe tbody tr th {\n",
       "        vertical-align: top;\n",
       "    }\n",
       "\n",
       "    .dataframe thead th {\n",
       "        text-align: right;\n",
       "    }\n",
       "</style>\n",
       "<table border=\"1\" class=\"dataframe\">\n",
       "  <thead>\n",
       "    <tr style=\"text-align: right;\">\n",
       "      <th></th>\n",
       "      <th>Id</th>\n",
       "      <th>Title</th>\n",
       "      <th>Body</th>\n",
       "      <th>Tags</th>\n",
       "      <th>Score</th>\n",
       "      <th>ViewCount</th>\n",
       "      <th>FavoriteCount</th>\n",
       "      <th>AnswerCount</th>\n",
       "    </tr>\n",
       "  </thead>\n",
       "  <tbody>\n",
       "    <tr>\n",
       "      <th>9995</th>\n",
       "      <td>57562613</td>\n",
       "      <td>Python Earth Mover Distance of 2D arrays</td>\n",
       "      <td>&lt;p&gt;I would like to compute the &lt;em&gt;Earth Mover...</td>\n",
       "      <td>&lt;python&gt;&lt;scipy&gt;&lt;statistics&gt;&lt;distribution&gt;&lt;eart...</td>\n",
       "      <td>12</td>\n",
       "      <td>7550</td>\n",
       "      <td>0.0</td>\n",
       "      <td>1</td>\n",
       "    </tr>\n",
       "    <tr>\n",
       "      <th>9996</th>\n",
       "      <td>19914810</td>\n",
       "      <td>Mocha/Chai async tests 'done()' fn not working</td>\n",
       "      <td>&lt;p&gt;I'm testing a bank model I have as follows:...</td>\n",
       "      <td>&lt;javascript&gt;&lt;unit-testing&gt;&lt;backbone.js&gt;&lt;mocha....</td>\n",
       "      <td>12</td>\n",
       "      <td>5432</td>\n",
       "      <td>0.0</td>\n",
       "      <td>1</td>\n",
       "    </tr>\n",
       "    <tr>\n",
       "      <th>9997</th>\n",
       "      <td>1012289</td>\n",
       "      <td>nServiceBus, Rhino Service Bus, MassTransit - ...</td>\n",
       "      <td>&lt;p&gt;Hey people would love to hear about any res...</td>\n",
       "      <td>&lt;c#&gt;&lt;nservicebus&gt;&lt;rhino&gt;&lt;servicebus&gt;&lt;masstransit&gt;</td>\n",
       "      <td>13</td>\n",
       "      <td>6536</td>\n",
       "      <td>0.0</td>\n",
       "      <td>5</td>\n",
       "    </tr>\n",
       "    <tr>\n",
       "      <th>9998</th>\n",
       "      <td>57562804</td>\n",
       "      <td>MongoDb with FastAPI</td>\n",
       "      <td>&lt;p&gt;I am playing around with &lt;a href=\"https://f...</td>\n",
       "      <td>&lt;mongodb&gt;&lt;mongoengine&gt;&lt;tornado-motor&gt;&lt;fastapi&gt;...</td>\n",
       "      <td>18</td>\n",
       "      <td>18997</td>\n",
       "      <td>0.0</td>\n",
       "      <td>3</td>\n",
       "    </tr>\n",
       "    <tr>\n",
       "      <th>9999</th>\n",
       "      <td>8699134</td>\n",
       "      <td>Extracting the song frequency of an mp3 file u...</td>\n",
       "      <td>&lt;p&gt;I am using the HTML5 web audio API to analy...</td>\n",
       "      <td>&lt;javascript&gt;&lt;html&gt;&lt;audio&gt;&lt;mp3&gt;&lt;arraybuffer&gt;</td>\n",
       "      <td>13</td>\n",
       "      <td>4188</td>\n",
       "      <td>0.0</td>\n",
       "      <td>2</td>\n",
       "    </tr>\n",
       "  </tbody>\n",
       "</table>\n",
       "</div>"
      ],
      "text/plain": [
       "            Id                                              Title  \\\n",
       "9995  57562613           Python Earth Mover Distance of 2D arrays   \n",
       "9996  19914810     Mocha/Chai async tests 'done()' fn not working   \n",
       "9997   1012289  nServiceBus, Rhino Service Bus, MassTransit - ...   \n",
       "9998  57562804                               MongoDb with FastAPI   \n",
       "9999   8699134  Extracting the song frequency of an mp3 file u...   \n",
       "\n",
       "                                                   Body  \\\n",
       "9995  <p>I would like to compute the <em>Earth Mover...   \n",
       "9996  <p>I'm testing a bank model I have as follows:...   \n",
       "9997  <p>Hey people would love to hear about any res...   \n",
       "9998  <p>I am playing around with <a href=\"https://f...   \n",
       "9999  <p>I am using the HTML5 web audio API to analy...   \n",
       "\n",
       "                                                   Tags  Score  ViewCount  \\\n",
       "9995  <python><scipy><statistics><distribution><eart...     12       7550   \n",
       "9996  <javascript><unit-testing><backbone.js><mocha....     12       5432   \n",
       "9997  <c#><nservicebus><rhino><servicebus><masstransit>     13       6536   \n",
       "9998  <mongodb><mongoengine><tornado-motor><fastapi>...     18      18997   \n",
       "9999        <javascript><html><audio><mp3><arraybuffer>     13       4188   \n",
       "\n",
       "      FavoriteCount  AnswerCount  \n",
       "9995            0.0            1  \n",
       "9996            0.0            1  \n",
       "9997            0.0            5  \n",
       "9998            0.0            3  \n",
       "9999            0.0            2  "
      ]
     },
     "execution_count": 11,
     "metadata": {},
     "output_type": "execute_result"
    }
   ],
   "source": [
    "df.tail()"
   ]
  },
  {
   "cell_type": "markdown",
   "id": "37f95b60",
   "metadata": {},
   "source": [
    "### Observation : \n",
    "- Pour chaque ligne: \n",
    "    - on a la présence du titre de la problématique (title), le contenu du problème (body), des mots clefs (ou balises) synthétisant le sujet évoqué\n",
    "    - Puis on a les colonnes numériques qui indique le score du probleme obtenu, le nombre de personne ayant vu le topic, le nombre de personne ayant mi le topic en favoris et le nombre de réponse apporté\n",
    "    \n",
    "#### Regardons s'il y a des données manquantes/dupliquées"
   ]
  },
  {
   "cell_type": "code",
   "execution_count": 7,
   "id": "402f9024",
   "metadata": {},
   "outputs": [
    {
     "name": "stdout",
     "output_type": "stream",
     "text": [
      "sum Isnull :\n",
      "Id--------  : 0\n",
      "Title-----  : 0\n",
      "Body------  : 0\n",
      "Tags------  : 0\n",
      "Score-----  : 0\n",
      "ViewCount-  : 0\n",
      "FavoriteCount  : 287\n",
      "AnswerCount  : 0\n",
      "\n",
      "sum duplicated :\n",
      "Id--------  : 0\n",
      "Title-----  : 0\n",
      "Body------  : 0\n",
      "Tags------  : 66\n",
      "Score-----  : 9364\n",
      "ViewCount-  : 684\n",
      "FavoriteCount  : 9997\n",
      "AnswerCount  : 9940\n"
     ]
    }
   ],
   "source": [
    "print(\"sum Isnull :\")\n",
    "for i in df:\n",
    "    col = df[i]\n",
    "    print(f\"{col.name:-<10}  : {col.isnull().sum()}\")\n",
    "\n",
    "print()\n",
    "\n",
    "print(\"sum duplicated :\")\n",
    "for i in df:\n",
    "    col = df[i]\n",
    "    print(f\"{col.name:-<10}  : {col.duplicated().sum()}\")"
   ]
  },
  {
   "cell_type": "markdown",
   "id": "ea0661b5",
   "metadata": {},
   "source": [
    "#### Données manquantes :\n",
    "- Présente sur Favoritecount uniquement\n",
    "\n",
    "#### Données dupliquées : \n",
    "- Présentes sur les colonnes numériques et la colonne Tags, ce qui n'est pas surprenant :\n",
    "    - Si deux sujets sont très proches, ils peuvent avoir les mêmes tags\n",
    "    - Il n'est pas improbable que 2 sujets aient : le même score/nombre de vue/ nombre de favoris/nombre de réponse"
   ]
  },
  {
   "cell_type": "markdown",
   "id": "b3fab76c",
   "metadata": {},
   "source": [
    "### Regardons quelques lignes complètes pour les colonnes Title, Body et Tags :"
   ]
  },
  {
   "cell_type": "code",
   "execution_count": 16,
   "id": "c6da4d50",
   "metadata": {},
   "outputs": [],
   "source": [
    "#fonction qui affiche le contenue d'une ligne\n",
    "def display_line(line, col=[\"Title\",\"Body\",\"Tags\"]):\n",
    "    \"\"\" fonction qui affiche le contenue d'une ligne \"\"\"\n",
    "    for i,k in df[col].iteritems():\n",
    "        print(i, \":\") \n",
    "        print(k[line], \"\\n\")"
   ]
  },
  {
   "cell_type": "code",
   "execution_count": 9,
   "id": "b7262ed5",
   "metadata": {
    "scrolled": false
   },
   "outputs": [
    {
     "name": "stdout",
     "output_type": "stream",
     "text": [
      "Title :\n",
      "Getting parent of a vertex in a perfect binary tree \n",
      "\n",
      "Body :\n",
      "<p>I've got a <a href=\"http://xlinux.nist.gov/dads//HTML/perfectBinaryTree.html\" rel=\"noreferrer\">perfect binary tree</a> that's enumerated the post-order way. An example of such tree would be</p>\n",
      "\n",
      "<pre><code>                         15\n",
      "                 7               14\n",
      "             3       6       10      13\n",
      "           1   2   4   5    8  9   11  12\n",
      "</code></pre>\n",
      "\n",
      "<p>The size of the tree is known to me. I'm looking for a formula or a simple algorithm that would take a single number as an input (the ID of the vertex I'm interested in) and return also a single number - the ID of the parent. It's quite easy to traverse the tree from the top and get the result in <code>O(log n)</code>. Is there a faster solution? I'm mostly interested in the leaves, so if there's a solution for the special case, bring it on too.</p>\n",
      " \n",
      "\n",
      "Tags :\n",
      "<algorithm><data-structures><tree><binary-tree><postorder> \n",
      "\n"
     ]
    }
   ],
   "source": [
    "display_line(0)"
   ]
  },
  {
   "cell_type": "code",
   "execution_count": 10,
   "id": "2f2bfed3",
   "metadata": {},
   "outputs": [
    {
     "name": "stdout",
     "output_type": "stream",
     "text": [
      "Title :\n",
      "How to make an empty anchor tag clickable in IE7? \n",
      "\n",
      "Body :\n",
      "<p>I need to make an area within a background image clickable to generate an event for JavaScript use. So, I created an anchor tag and inside that I inserted some relevant text between semantically meaningless tags which I then made hidden:</p>\n",
      "\n",
      "<pre><code>&lt;a href=\"#\"&gt;&lt;i&gt;foo&lt;/i&gt;&lt;/a&gt;\n",
      "</code></pre>\n",
      "\n",
      "<p>Then I gave the anchor tag 'display:block' properties, width and height values, and absolutely positioned it where I needed it to be in relation to the background image. In Firefox this works nicely - I hover over and my cursor changes as expected - I've got something clickable. IE7 however, doesn't like the fact that the anchor tag is 'empty' and therefore doesn't treat it as clickable. So I added this to the anchor tag in css:</p>\n",
      "\n",
      "<pre><code>background:url(/no-image.jpg); \n",
      "</code></pre>\n",
      "\n",
      "<p>...which seems to fool IE7 into assuming something is there. IE7 now treats the area as clickable, even if no background image actually exists for the anchor tag. But this seems like a bit of a hack to me and I'm wondering if there is a more elegant way to deal with this problem. Any ideas would be greatly appreciated. Thanks.</p>\n",
      " \n",
      "\n",
      "Tags :\n",
      "<html><css><internet-explorer><internet-explorer-7><cross-browser> \n",
      "\n"
     ]
    }
   ],
   "source": [
    "display_line(100)"
   ]
  },
  {
   "cell_type": "code",
   "execution_count": 11,
   "id": "342c40fb",
   "metadata": {},
   "outputs": [
    {
     "name": "stdout",
     "output_type": "stream",
     "text": [
      "Title :\n",
      "Is MEF OSGi for .NET? \n",
      "\n",
      "Body :\n",
      "<p>I'm just trying to get my head around the <a href=\"http://www.codeplex.com/MEF\" rel=\"noreferrer\">Managed Extensibility Framework</a> (<a href=\"http://www.codeplex.com/MEF\" rel=\"noreferrer\">MEF</a>) at the moment and digging into a bit. I have an Eclipse background so in my brain I currently have the equation:</p>\n",
      "\n",
      "<blockquote>\n",
      "  <p><code>MEF =~ OSGi for .NET</code></p>\n",
      "</blockquote>\n",
      "\n",
      "<p>Based on what I have heard so far.  Am I on the right lines?</p>\n",
      " \n",
      "\n",
      "Tags :\n",
      "<.net><eclipse><plugins><osgi><mef> \n",
      "\n"
     ]
    }
   ],
   "source": [
    "display_line(9000)"
   ]
  },
  {
   "cell_type": "markdown",
   "id": "d2093988",
   "metadata": {},
   "source": [
    "### observation : \n",
    "- On voit au travers de ces quelques exemples, que les topic créé sont composé de la façon suivante : \n",
    "    - Un titre \n",
    "    - un corps de texte (body) qui **est entouré de balises**\n",
    "    - des tags **qui sont séparés les uns des autres par des <>**\n",
    "    \n",
    "Donc ici on comprend bien qu'en fonction des colonnes, il y aura différent traitement **au préalable** à effectuer :\n",
    "- Title : On a directement du texte, donc on pourra effectué un prétraitement de texte directement\n",
    "- Body : on voit qu'il y a beaucoup de balise, il va falloir au **préalablement les retirer** afin d'avoir accès au texte\n",
    "- Tags : Ici, il y a aussi une **étape préalable** : le retrait des \"<\", \">\" afin d'accéder directement aux mots clefs\n",
    "\n",
    "### Les autres colonnes : "
   ]
  },
  {
   "cell_type": "code",
   "execution_count": 13,
   "id": "851e51ef",
   "metadata": {
    "scrolled": true
   },
   "outputs": [
    {
     "data": {
      "text/plain": [
       "['Score', 'ViewCount', 'FavoriteCount', 'AnswerCount']"
      ]
     },
     "execution_count": 13,
     "metadata": {},
     "output_type": "execute_result"
    }
   ],
   "source": [
    "#Récupération des variables quantitatives (sauf l'Id): \n",
    "var_quant = list(df.loc[:,~df.columns.isin([\"Id\"])].select_dtypes(exclude=\"object\").columns)\n",
    "var_quant"
   ]
  },
  {
   "cell_type": "code",
   "execution_count": 14,
   "id": "4536fffe",
   "metadata": {},
   "outputs": [
    {
     "data": {
      "text/html": [
       "<div>\n",
       "<style scoped>\n",
       "    .dataframe tbody tr th:only-of-type {\n",
       "        vertical-align: middle;\n",
       "    }\n",
       "\n",
       "    .dataframe tbody tr th {\n",
       "        vertical-align: top;\n",
       "    }\n",
       "\n",
       "    .dataframe thead th {\n",
       "        text-align: right;\n",
       "    }\n",
       "</style>\n",
       "<table border=\"1\" class=\"dataframe\">\n",
       "  <thead>\n",
       "    <tr style=\"text-align: right;\">\n",
       "      <th></th>\n",
       "      <th>min</th>\n",
       "      <th>max</th>\n",
       "      <th>mean</th>\n",
       "    </tr>\n",
       "  </thead>\n",
       "  <tbody>\n",
       "    <tr>\n",
       "      <th>Score</th>\n",
       "      <td>11.0</td>\n",
       "      <td>9274.0</td>\n",
       "      <td>84.263700</td>\n",
       "    </tr>\n",
       "    <tr>\n",
       "      <th>ViewCount</th>\n",
       "      <td>140.0</td>\n",
       "      <td>7598154.0</td>\n",
       "      <td>77219.804600</td>\n",
       "    </tr>\n",
       "    <tr>\n",
       "      <th>FavoriteCount</th>\n",
       "      <td>0.0</td>\n",
       "      <td>1.0</td>\n",
       "      <td>0.000309</td>\n",
       "    </tr>\n",
       "    <tr>\n",
       "      <th>AnswerCount</th>\n",
       "      <td>1.0</td>\n",
       "      <td>126.0</td>\n",
       "      <td>6.252700</td>\n",
       "    </tr>\n",
       "  </tbody>\n",
       "</table>\n",
       "</div>"
      ],
      "text/plain": [
       "                 min        max          mean\n",
       "Score           11.0     9274.0     84.263700\n",
       "ViewCount      140.0  7598154.0  77219.804600\n",
       "FavoriteCount    0.0        1.0      0.000309\n",
       "AnswerCount      1.0      126.0      6.252700"
      ]
     },
     "execution_count": 14,
     "metadata": {},
     "output_type": "execute_result"
    },
    {
     "data": {
      "image/png": "[encoded data removed]",
      "text/plain": [
       "<Figure size 864x576 with 4 Axes>"
      ]
     },
     "metadata": {
      "needs_background": "light"
     },
     "output_type": "display_data"
    }
   ],
   "source": [
    "\n",
    "fig,axes = plt.subplots(2,2, figsize=(12,8))\n",
    "for i,col in enumerate(var_quant):\n",
    "    nrow = i//2\n",
    "    ncol = i%2\n",
    "    ax = sns.boxplot(x=col, ax=axes[nrow,ncol], color=\"orange\",\n",
    "                     data=df)\n",
    "    ax.set_xlabel(None)\n",
    "    ax.set_title(f'{col}', fontdict={\"c\":\"red\"})\n",
    "df[var_quant].describe().T[[\"min\",\"max\",\"mean\"]]\n"
   ]
  },
  {
   "cell_type": "markdown",
   "id": "57661cdd",
   "metadata": {},
   "source": [
    "### Observations :\n",
    "- FavoriteCount : \n",
    "    - Variable quantitatives discrète\n",
    "        - si valeur 0 : question **qui a été mise favorite à un temps donné mais a été supprimée des favoris**\n",
    "        - si valeur 1 : la question est toujours jugée favorite\n",
    "        - si valeur NULL : la question n'a jamais été mise favorite (ce n'est donc pas une donnée manquante)\n",
    "\n",
    "(source : https://meta.stackexchange.com/questions/327680/why-do-some-questions-have-a-favorite-count-of-0-while-others-have-none)\n",
    "\n",
    "\n",
    "- Score, ViewCount, AnswerCount : \n",
    "    - Variables quantitatives continues\n",
    "    - Chacune de ces variables a un ordre de grandeur différent :\n",
    "        - échelle 10^2 pour le nombre de réponse\n",
    "        - 10^3 pour les scores\n",
    "        - 10^6 pour les vues\n",
    "\n",
    "- D'après les données, on a  moyenne 70.000 vues par topic,cela signifie qu'on a récupérer des questions d'utilisateurs qui ont été très souvent consultés, en un sens, cela peut être un bon **indicateur de la pertinence des données receuillies** \n",
    "- on a 6 réponses en moyenne\n",
    "- et Des scores > 0 donc forcément jugés positives en majorité"
   ]
  },
  {
   "cell_type": "code",
   "execution_count": 15,
   "id": "178b1844",
   "metadata": {},
   "outputs": [
    {
     "data": {
      "text/plain": [
       "0.0    9997\n",
       "1.0       3\n",
       "Name: FavoriteCount, dtype: int64"
      ]
     },
     "execution_count": 15,
     "metadata": {},
     "output_type": "execute_result"
    }
   ],
   "source": [
    "#FavorieCount : \n",
    "\n",
    "#Imputation des données manquantes par la valeur  0 : \n",
    "df[\"FavoriteCount\"] = df['FavoriteCount'].fillna(0)\n",
    "df.FavoriteCount.value_counts()"
   ]
  },
  {
   "cell_type": "code",
   "execution_count": 16,
   "id": "b33eebb4",
   "metadata": {},
   "outputs": [
    {
     "data": {
      "image/png": "[encoded data removed]",
      "text/plain": [
       "<Figure size 432x288 with 1 Axes>"
      ]
     },
     "metadata": {
      "needs_background": "light"
     },
     "output_type": "display_data"
    },
    {
     "name": "stdout",
     "output_type": "stream",
     "text": [
      "0.9997 %\n"
     ]
    }
   ],
   "source": [
    "#visualisation de favoriecount : \n",
    "ind,val = df.FavoriteCount.value_counts().index, df.FavoriteCount.value_counts().values\n",
    "sns.barplot(x=ind, y= val)\n",
    "plt.show()\n",
    "print(df[\"FavoriteCount\"][df.FavoriteCount == 0].shape[0]/df.shape[0], \"%\")"
   ]
  },
  {
   "cell_type": "markdown",
   "id": "635efb99",
   "metadata": {},
   "source": [
    "- 99.99% des questions recueillis ont au moins été mise en favorite a un moment données, là aussi nous avons une autre preuve du **caractère pertinent** des questions posées sur les topics\n"
   ]
  },
  {
   "cell_type": "code",
   "execution_count": 17,
   "id": "6b74a6c8",
   "metadata": {},
   "outputs": [
    {
     "name": "stdout",
     "output_type": "stream",
     "text": [
      "AnswerCount : 6.2527\n",
      "ViewCount : 77219.8046\n"
     ]
    }
   ],
   "source": [
    "for i in df[[\"AnswerCount\",\"ViewCount\"]]:\n",
    "    print(i, \":\", df[i].mean())"
   ]
  },
  {
   "cell_type": "markdown",
   "id": "934f4f04",
   "metadata": {},
   "source": [
    "### Bilan de cette première phase exploratoire : \n",
    "- Notre objectif est de nettoyées les données textuelles afin de les rendre compatibles avec une approche non supervisée et supervisée, pour cela, il était essentiel de faire un état des lieux de notre jeu de données\n",
    "- Nous avons vu comment étaient constituées les colonnes Title, Body et Tags et nous avons une première intuition quant aux différents traitement à appliquer\n",
    "- L'analyse des variables numériques confirme que nous avons récupérés des questions pertinentes "
   ]
  },
  {
   "cell_type": "markdown",
   "id": "9ef25882",
   "metadata": {},
   "source": [
    "# 2. Nettoyage des données \n",
    "- Pour cette partie, nous n'aurons besoins que des colonnes Title, Body et Tags "
   ]
  },
  {
   "cell_type": "code",
   "execution_count": 12,
   "id": "321c7dfb",
   "metadata": {},
   "outputs": [],
   "source": [
    "df = df[[\"Title\",\"Body\",\"Tags\"]]"
   ]
  },
  {
   "cell_type": "markdown",
   "id": "c6b9774a",
   "metadata": {},
   "source": [
    "## 2.1 Nettoyage de la colonne Tags : "
   ]
  },
  {
   "cell_type": "code",
   "execution_count": 13,
   "id": "8ec0b265",
   "metadata": {},
   "outputs": [],
   "source": [
    "#Suppression des \"<\",\">\"\n",
    "\n",
    "df['Tags'] = df.Tags.str.replace(\"<\", \"\")\n",
    "df['Tags'] = df.Tags.str.split(\">\")\n"
   ]
  },
  {
   "cell_type": "code",
   "execution_count": 14,
   "id": "768613ca",
   "metadata": {},
   "outputs": [
    {
     "data": {
      "text/plain": [
       "RangeIndex(start=0, stop=10000, step=1)"
      ]
     },
     "execution_count": 14,
     "metadata": {},
     "output_type": "execute_result"
    }
   ],
   "source": [
    "df.index"
   ]
  },
  {
   "cell_type": "code",
   "execution_count": 17,
   "id": "94a1913c",
   "metadata": {},
   "outputs": [
    {
     "name": "stdout",
     "output_type": "stream",
     "text": [
      "Tags :\n",
      "['git', 'github', 'repository', 'bitbucket', 'commit', ''] \n",
      "\n",
      "line 235 None\n",
      "Tags :\n",
      "['iphone', 'objective-c', 'ios', 'cocoa-touch', 'interface-builder', ''] \n",
      "\n",
      "line 5192 None\n",
      "Tags :\n",
      "['sql', 'sql-server', 'database', 'entity-framework', 'entity-framework-4', ''] \n",
      "\n",
      "line 905 None\n",
      "Tags :\n",
      "['sql', 'database', 'sdk', 'odbc', 'odbc-bridge', ''] \n",
      "\n",
      "line 7813 None\n",
      "Tags :\n",
      "['.net', 'python', 'arrays', 'loops', 'iteration', ''] \n",
      "\n",
      "line 2895 None\n"
     ]
    }
   ],
   "source": [
    "#Regardons quelque ligne aléatoire : \n",
    "\n",
    "np.random.seed(1) #on \"fixe\" l'aléatoire\n",
    "#Récupération de 5 valeurs \n",
    "random_line = np.random.randint(low= 0, high = df.shape[0], size = 5)\n",
    "\n",
    "for i in random_line:\n",
    "    print(\"line\", i, display_line(i, col=[\"Tags\"]))"
   ]
  },
  {
   "cell_type": "markdown",
   "id": "6c3d6ea0",
   "metadata": {},
   "source": [
    "On voit qu'a chaque fin ligne il y a la présence d'un caractère vide, nous allons le supprimer : "
   ]
  },
  {
   "cell_type": "code",
   "execution_count": 18,
   "id": "342ef9a4",
   "metadata": {},
   "outputs": [],
   "source": [
    "#suppression du dernier element de la liste (element vide)\n",
    "df[\"Tags\"] = df.Tags.apply(lambda x : x[:-1])"
   ]
  },
  {
   "cell_type": "code",
   "execution_count": 19,
   "id": "a762aae1",
   "metadata": {},
   "outputs": [
    {
     "name": "stdout",
     "output_type": "stream",
     "text": [
      "Tags :\n",
      "['git', 'github', 'repository', 'bitbucket', 'commit'] \n",
      "\n",
      "line 235 None\n",
      "Tags :\n",
      "['iphone', 'objective-c', 'ios', 'cocoa-touch', 'interface-builder'] \n",
      "\n",
      "line 5192 None\n",
      "Tags :\n",
      "['sql', 'sql-server', 'database', 'entity-framework', 'entity-framework-4'] \n",
      "\n",
      "line 905 None\n",
      "Tags :\n",
      "['sql', 'database', 'sdk', 'odbc', 'odbc-bridge'] \n",
      "\n",
      "line 7813 None\n",
      "Tags :\n",
      "['.net', 'python', 'arrays', 'loops', 'iteration'] \n",
      "\n",
      "line 2895 None\n"
     ]
    }
   ],
   "source": [
    "#Verifons si tout est OK : \n",
    "for i in random_line:\n",
    "    print(\"line\", i, display_line(i, col=[\"Tags\"]))"
   ]
  },
  {
   "cell_type": "raw",
   "id": "024a7ec8",
   "metadata": {},
   "source": [
    "#si besoin de transformer tags en corpus : \n",
    "\n",
    "df.Tags = df.Tags.apply(lambda x : \" \".join(x))    \n",
    "corpus = \" \".join(df.Tags)\n",
    "corpus[:200]"
   ]
  },
  {
   "cell_type": "markdown",
   "id": "c9cf6d3d",
   "metadata": {},
   "source": [
    "Maintenant, on voit qu'on a pas de liste qui se termine par un \"\""
   ]
  },
  {
   "cell_type": "markdown",
   "id": "525171b3",
   "metadata": {},
   "source": [
    "#### Distribution du nombre de tags par ligne :\n",
    "- On peut regarder la longueur des listes de tags pour chaque ligne :"
   ]
  },
  {
   "cell_type": "code",
   "execution_count": 20,
   "id": "b5d43112",
   "metadata": {},
   "outputs": [
    {
     "data": {
      "text/plain": [
       "5    10000\n",
       "Name: Tags, dtype: int64"
      ]
     },
     "execution_count": 20,
     "metadata": {},
     "output_type": "execute_result"
    }
   ],
   "source": [
    "df.Tags.apply(lambda x: len(x)).value_counts()"
   ]
  },
  {
   "cell_type": "markdown",
   "id": "1dc4c1fc",
   "metadata": {},
   "source": [
    "Ici on voit que toutes les lignes ont exactement 5 tags"
   ]
  },
  {
   "cell_type": "markdown",
   "id": "e195c990",
   "metadata": {},
   "source": [
    "### Visualisation des tags :\n",
    "- Nous allons regarder les tags les plus présents dans notre jeu de données"
   ]
  },
  {
   "cell_type": "code",
   "execution_count": 21,
   "id": "b64c45bd",
   "metadata": {},
   "outputs": [],
   "source": [
    "#Creation d'un dictionnaire vide\n",
    "tags_dict = {}\n",
    "\n",
    "#Pour chaque ligne du dataframe: \n",
    "for row in df.Tags:\n",
    "    #on parcours chaque element\n",
    "    for ele in row:\n",
    "        if ele not in tags_dict: #si la clef n'existe pas on le créé\n",
    "            tags_dict[ele] = 1\n",
    "        else: #si la clef est déja présente on l'incrémente\n",
    "            tags_dict[ele] += 1"
   ]
  },
  {
   "cell_type": "code",
   "execution_count": 22,
   "id": "458a31de",
   "metadata": {},
   "outputs": [],
   "source": [
    "#conversion en dataframe : \n",
    "tag_df = pd.DataFrame.from_dict(dict(tags_dict), columns=[\"value\"], orient=\"index\")"
   ]
  },
  {
   "cell_type": "code",
   "execution_count": 23,
   "id": "c0e0b7bd",
   "metadata": {},
   "outputs": [],
   "source": [
    "tag_df = tag_df.sort_values(by = \"value\", ascending= False)"
   ]
  },
  {
   "cell_type": "code",
   "execution_count": 24,
   "id": "64fc8fa8",
   "metadata": {},
   "outputs": [
    {
     "name": "stdout",
     "output_type": "stream",
     "text": [
      "Nombre de tags unique : 7980\n",
      "Nombre de tags apparaissant au moins 100 fois : 57\n"
     ]
    },
    {
     "data": {
      "image/png": "[encoded data removed]",
      "text/plain": [
       "<Figure size 720x720 with 1 Axes>"
      ]
     },
     "metadata": {
      "needs_background": "light"
     },
     "output_type": "display_data"
    }
   ],
   "source": [
    "print(\"Nombre de tags unique :\", tag_df.shape[0])\n",
    "\n",
    "#Visualisation des tags les plus présents (au moins 100 occurences):\n",
    "tag_100 = tag_df[tag_df.value>=100]\n",
    "print(\"Nombre de tags apparaissant au moins 100 fois :\", tag_100.shape[0])\n",
    "\n",
    "plt.figure(figsize=(10,10))\n",
    "ax = sns.barplot(y=tag_100.index,x= tag_100[\"value\"], palette=\"bright\")\n",
    "ax.set_title(\"Répartition des 100 tags les plus fréquents :\")\n",
    "plt.show()"
   ]
  },
  {
   "cell_type": "markdown",
   "id": "8b62f513",
   "metadata": {},
   "source": [
    "#### Observation :\n",
    "- c# est le tags le plus présent avec plus de 1500 occurences\n",
    "- java et net sont a plus de 1000 occurences\n",
    "\n",
    "\n",
    "- On voit que les tags les plus représentés sont essentiellement des langages de programmation ou des système d'exploitation\n",
    "\n",
    "- sur les 7980 tags, seul **57** apparaissent au moins 100 fois\n",
    "\n",
    "#### tags apparaissant qu'une seule fois :"
   ]
  },
  {
   "cell_type": "code",
   "execution_count": 25,
   "id": "a5c513cd",
   "metadata": {},
   "outputs": [
    {
     "name": "stdout",
     "output_type": "stream",
     "text": [
      "Nombre de tags apparaissant une seule fois : 4148\n"
     ]
    }
   ],
   "source": [
    "tag_1_occ = list(tag_df[tag_df.value==1].index)\n",
    "print(\"Nombre de tags apparaissant une seule fois :\", len(tag_1_occ))\n"
   ]
  },
  {
   "cell_type": "markdown",
   "id": "90d707ed",
   "metadata": {},
   "source": [
    "Gardons la liste de tag n'apparaissant qu'une seule fois, nous pourrons la réutiliser afin de réduire le nombre de token lors de l'étape de préprocessing"
   ]
  },
  {
   "cell_type": "markdown",
   "id": "46c11f40",
   "metadata": {},
   "source": [
    "# Récupération des Tags les plus présents  :\n",
    "- Nous venons de voir qu'il y a 57 tags qui apparaissent les plus fréquemment, il serait interessant de les **conserver**\n",
    "- Lors de la partie préprocessing, lorsque nous allons supprimer les mots qui n'appartiennent pas au dictionnaire anglais, nous allons en plus préciser, que les mots ne doivent pas non plus appartenir a la liste contenant les tags les plus présent\n",
    "- Prenons par exemple les 500 tags les plus présent "
   ]
  },
  {
   "cell_type": "code",
   "execution_count": 26,
   "id": "ec3b2450",
   "metadata": {},
   "outputs": [
    {
     "name": "stdout",
     "output_type": "stream",
     "text": [
      "Nombre de Tags les plus fréquent : 500\n",
      "Liste des 100 Tags les plus fréquent : ['c#', 'java', '.net', 'python', 'c++', 'javascript', 'ios', 'android', 'objective-c', 'html', 'c', 'php', 'iphone', 'sql', 'jquery', 'asp.net', 'linux', 'performance', 'sql-server', 'css', 'windows', 'database', 'wpf', 'ruby-on-rails', 'spring', 'string', 'unit-testing', 'mysql', 'visual-studio', 'algorithm', 'arrays', 'xcode', 'cocoa-touch', 'asp.net-mvc', 'swift', 'ruby', 'multithreading', 'node.js', 'django', 'macos', 'json', 'debugging', 'c++11', 'xml', 'bash', 'eclipse', 'gcc', 'tsql', 'linq', 'http', 'optimization', 'ajax', 'winforms', 'git', 'unix', 'shell', 'security', 'oop', 'postgresql', 'python-3.x', 'pandas', 'datetime', 'image', 'cocoa', 'file', 'vb.net', 'hibernate', 'entity-framework', 'user-interface', 'memory', 'testing', 'xaml', 'angular', 'authentication', 'web-services', 'rest', 'class', 'numpy', 'generics', 'exception', 'language-agnostic', 'sql-server-2005', 'reactjs', 'memory-management', 'list', 'winapi', 'parsing', 'twitter-bootstrap', 'ios7', 'angularjs', 'date', 'function', 'math', 'jpa', 'templates', 'spring-boot', 'typescript', 'visual-studio-2008', 'python-2.7', 'google-chrome']\n"
     ]
    }
   ],
   "source": [
    "# récupération des 500 tags les plus fréquent\n",
    "toptag = list(tag_df.iloc[:500].index)\n",
    "print(\"Nombre de Tags les plus fréquent :\", len(toptag))\n",
    "print(\"Liste des 100 Tags les plus fréquent :\", toptag[:100])\n"
   ]
  },
  {
   "cell_type": "code",
   "execution_count": 28,
   "id": "ec21d114",
   "metadata": {},
   "outputs": [],
   "source": [
    "### enregistrement des toptags : \n",
    "with open(\"toptag.pkl\", \"wb\") as file:\n",
    "    pickle.dump(toptag, file)\n"
   ]
  },
  {
   "cell_type": "markdown",
   "id": "8b6c6315",
   "metadata": {},
   "source": [
    "## 2.2 Nettoyage de la colonne Title : \n",
    "- Nous allons afficher le nombre de tokens de base sans avoir prétraité le texte\n",
    "\n",
    "- Puis, nous allons créer une fonction permettant d'effectuer un prétraitement de texte afin de réduire ce nombre de token, cette fonction comprendra : \n",
    "    - tokenization des phrases\n",
    "    - suppression de la ponctuation\n",
    "    - suppression des majuscules\n",
    "    - suppression des stopwords\n",
    "    - suppression des chiffres\n",
    "    - lemmatization des mots (préférable, car ici on travail avec des tags, autrement dit, des mots clefs, par conséquent, obtenir des verbes/noms définieront mieux ces mots clefs plutôt que des adjectifs ou adverbes que l'on obtiendrai par un stemmer \n",
    "    - Suppression éventuelle de certains token que l'on définiera soi même dans une liste\n",
    "    - Conservation de certains tokens (tags les plus représentés)\n",
    "    \n"
   ]
  },
  {
   "cell_type": "code",
   "execution_count": 42,
   "id": "d9a9ef05",
   "metadata": {},
   "outputs": [],
   "source": [
    "###  creation d'une fonction qui affiche le nombre de tokens:\n",
    "def display_tokens(tokens):\n",
    "    \n",
    "    print(\"Tokens :\", len(tokens))\n",
    "    \n",
    "    print(\"Tokens unique :\", len(set(tokens)))\n",
    "    \n",
    "    #affiche 60 premiers tokens\n",
    "    print(tokens[:60])"
   ]
  },
  {
   "cell_type": "code",
   "execution_count": 43,
   "id": "2331ad31",
   "metadata": {},
   "outputs": [],
   "source": [
    "title_corps = \" \".join(df.Title)"
   ]
  },
  {
   "cell_type": "code",
   "execution_count": 44,
   "id": "4c2f3a1b",
   "metadata": {},
   "outputs": [
    {
     "name": "stdout",
     "output_type": "stream",
     "text": [
      "Tokens : 108213\n",
      "Tokens unique : 12797\n",
      "['Getting', 'parent', 'of', 'a', 'vertex', 'in', 'a', 'perfect', 'binary', 'tree', 'How', 'can', 'I', 'make', 'the', 'cursor', 'turn', 'to', 'the', 'wait', 'cursor', '?', 'HTML', 'Tables', '-', 'How', 'to', 'make', 'IE', 'not', 'break', 'lines', 'at', 'hyphens', 'Python', '-', 'Supervisor', 'how', 'to', 'log', 'the', 'standard', 'output', '-', 'How', 'to', 'play', 'audio', 'file', 'on', 'windows', 'from', 'command', 'line', '?', 'EditText', 'in', 'Listview', 'loses', 'focus']\n"
     ]
    }
   ],
   "source": [
    "# Affichons les 60 tokens non nettoyé grâce à wordpunct_tokenize\n",
    "display_tokens(wordpunct_tokenize(title_corps))"
   ]
  },
  {
   "cell_type": "markdown",
   "id": "5e8cc2ab",
   "metadata": {},
   "source": [
    "On voit ici un très grand nombre de token, plus de 100.000, pour environ 10.000 token unique"
   ]
  },
  {
   "cell_type": "markdown",
   "id": "aaa7d0a1",
   "metadata": {},
   "source": [
    "### English word : \n",
    "\n",
    "# Recuperation des mots anglais :"
   ]
  },
  {
   "cell_type": "code",
   "execution_count": 30,
   "id": "bcbc0d72",
   "metadata": {},
   "outputs": [],
   "source": [
    "eng_words = words.words()\n",
    "\n",
    "#mettons les en minuscules \n",
    "eng_words = [w.lower() for w in eng_words]\n",
    "    \n",
    "#il faut lemmatizons les mots anglais \n",
    "lemm = WordNetLemmatizer()\n",
    "eng_words = [lemm.lemmatize(w) for w in eng_words]"
   ]
  },
  {
   "cell_type": "code",
   "execution_count": 31,
   "id": "a34ba1ef",
   "metadata": {},
   "outputs": [],
   "source": [
    "### enregistrement de eng_words : \n",
    "pickle.dump(eng_words,open('eng_words','wb'))"
   ]
  },
  {
   "cell_type": "markdown",
   "id": "eabefff2",
   "metadata": {},
   "source": [
    "- La liste des mots en anglais est prête pour notre fonction de preprocessing\n",
    "- Avant de passer a l'étape de la création de cette fonction, nous allons vérifier si les tags que nous avons récupéré, sont modifier ou non après une lemmatisation, cela nous permettra de savoir s'il y a des conditions a rajouter ou non durant l'étape de lemmatisation dans notre fonction de preprocessing \n",
    "\n",
    "## Test de lemmatization :\n"
   ]
  },
  {
   "cell_type": "code",
   "execution_count": 112,
   "id": "9e92e99e",
   "metadata": {},
   "outputs": [
    {
     "name": "stdout",
     "output_type": "stream",
     "text": [
      "ios io\n",
      "css cs\n",
      "windows window\n",
      "arrays array\n",
      "pandas panda\n",
      "generics generic\n",
      "templates template\n",
      "collections collection\n",
      "pointers pointer\n",
      "types type\n",
      "forms form\n",
      "variables variable\n",
      "iis ii\n",
      "events event\n",
      "https http\n",
      "properties property\n",
      "transactions transaction\n",
      "loops loop\n",
      "sockets socket\n",
      "cookies cooky\n",
      "colors color\n",
      "parameters parameter\n",
      "dependencies dependency\n",
      "methods method\n",
      "frameworks framework\n",
      "attributes attribute\n",
      "resources resource\n",
      "annotations annotation\n",
      "constants constant\n",
      "graphics graphic\n",
      "standards standard\n",
      "operators operator\n",
      "delegates delegate\n",
      "warnings warning\n",
      "passwords password\n",
      "statistics statistic\n",
      "assemblies assembly\n",
      "fonts font\n",
      "permissions permission\n",
      "controls control\n"
     ]
    }
   ],
   "source": [
    "lemm = WordNetLemmatizer()\n",
    "tokens =  [lemm.lemmatize(i) for i in toptag]\n",
    "for i,k in zip(toptag, tokens):\n",
    "    if i !=k:\n",
    "        print(i,k)"
   ]
  },
  {
   "cell_type": "markdown",
   "id": "7efefd2b",
   "metadata": {},
   "source": [
    "On peut voir qu'il y a une **différence**, surtout au niveau des \"s\", par conséquent on va devoir **ajouter une condition** pour que la lemmatization **ne s'applique pas sur nos toptag** afin d'éviter de les modifier"
   ]
  },
  {
   "cell_type": "code",
   "execution_count": 152,
   "id": "6d0dce52",
   "metadata": {},
   "outputs": [],
   "source": [
    "def preprocessing(txt, list_rare_words = None,\n",
    "                  format_txt=False):\n",
    "\n",
    "    \"\"\"\n",
    "    txt : contient le document au format str qui subira le preprocessing\n",
    "    format_txt : Si True cela renvoie une chaine de caractère, sinon une liste\n",
    "    list_rare_words : liste de token a fournir si on souhaite les supprimer\n",
    "    \"\"\"\n",
    "    #tokenization et separation de la ponctuation\n",
    "    tokens = nltk.wordpunct_tokenize(txt)\n",
    "    \n",
    "    #suppression ponctuation\n",
    "    tokenizer = RegexpTokenizer(r\"\\w+\")\n",
    "    tokens = tokenizer.tokenize(txt)\n",
    "    \n",
    "    #suppression majuscule : \n",
    "    tokens = [w.lower() for w in tokens]\n",
    "    \n",
    "        \n",
    "    #suppression des chiffres : \n",
    "    tokens = [w for w in tokens if not w.isnumeric()]\n",
    "\n",
    "    \n",
    "    #suppression stopwords : \n",
    "    stopw = nltk.corpus.stopwords.words(\"english\")\n",
    "    tokens = [w for w in tokens if w not in stopw]\n",
    "\n",
    "    #Supprime les tokens fournie dans la liste en hyperparametres\n",
    "    if list_rare_words:\n",
    "        tokens = [w for w in tokens if w not in list_rare_words]\n",
    "\n",
    "        \n",
    "        \n",
    "    #Lemmatization des mots s'ils n'appartiennent pas a la list toptag : \n",
    "    lemm = WordNetLemmatizer()\n",
    "    tmp_list = []\n",
    "\n",
    "    for i in tokens:\n",
    "        if i not in toptag: #si le token n'est pas dans la toptag liste alors on le lemmatize\n",
    "            tmp_list.append(lemm.lemmatize(i))\n",
    "        else: #sinon on conserve le token tel quel\n",
    "            tmp_list.append(i)\n",
    "    \n",
    "\n",
    "    #Suppression des mots token qui ne sont pas des mots dans le dictionnaire anglais \n",
    "    #OU qui ne sont pas dans la liste des top tags à conserver :\n",
    "    \n",
    "    tokens = [w for w in tmp_list if w in eng_words or w in toptag]    \n",
    "    \n",
    "    \n",
    "    if format_txt:\n",
    "        tokens = \" \".join(tokens)\n",
    "    return tokens"
   ]
  },
  {
   "cell_type": "code",
   "execution_count": 153,
   "id": "3e8ef09e",
   "metadata": {},
   "outputs": [],
   "source": [
    "title_preprocessed = preprocessing(title_corps, list_rare_words=tag_1_occ,\n",
    "             format_txt=False)"
   ]
  },
  {
   "cell_type": "code",
   "execution_count": 154,
   "id": "0c68980a",
   "metadata": {},
   "outputs": [
    {
     "name": "stdout",
     "output_type": "stream",
     "text": [
      "Tokens : 47102\n",
      "Tokens unique : 3571\n",
      "['getting', 'parent', 'vertex', 'perfect', 'binary', 'tree', 'make', 'cursor', 'turn', 'wait', 'cursor', 'html', 'table', 'make', 'ie', 'break', 'line', 'hyphen', 'python', 'supervisor', 'log', 'standard', 'output', 'play', 'audio', 'file', 'windows', 'command', 'line', 'listview', 'focus', 'android', 'x', 'using', 'expose', 'rest', 'api', 'read', 'get', 'head', 'increase', 'notebook', 'memory', 'limit', 'volatile', 'field', 'via', 'v', 'stack', 'android', 'convert', 'list', 'data', 'type', 'usable', 'linq', 'notification', 'received', 'ios', 'working']\n"
     ]
    }
   ],
   "source": [
    "display_tokens(title_preprocessed)"
   ]
  },
  {
   "cell_type": "markdown",
   "id": "65baf777",
   "metadata": {},
   "source": [
    "Le nombre de tokens et de tokens uniques ont été pratiquement réduit de moitié"
   ]
  },
  {
   "cell_type": "markdown",
   "id": "760ff57c",
   "metadata": {},
   "source": [
    "### Création d'une fonction de cleaning à appliquer sur toutes les lignes du dataframe pour la colonne title :"
   ]
  },
  {
   "cell_type": "code",
   "execution_count": 155,
   "id": "67dacf01",
   "metadata": {},
   "outputs": [],
   "source": [
    "def cleaning(doc):\n",
    "    new_doc = preprocessing(doc, \n",
    "                            list_rare_words = tag_1_occ, \n",
    "                            format_txt=True, #on met True pour avoir une chaine de caractere\n",
    "                             )\n",
    "    return new_doc"
   ]
  },
  {
   "cell_type": "code",
   "execution_count": 156,
   "id": "688fa88a",
   "metadata": {},
   "outputs": [],
   "source": [
    "df[\"Title_cleaned\"] = df[\"Title\"].apply(cleaning)"
   ]
  },
  {
   "cell_type": "markdown",
   "id": "8980c63e",
   "metadata": {},
   "source": [
    "Affichons quelques lignes afin de voir la différence entre le titre de base et le titre après nettoyage : "
   ]
  },
  {
   "cell_type": "code",
   "execution_count": 157,
   "id": "1d367cd7",
   "metadata": {},
   "outputs": [
    {
     "name": "stdout",
     "output_type": "stream",
     "text": [
      "line : 235\n",
      "Title :\n",
      "How to delete commits from git on Github and Bitbucket \n",
      "\n",
      "Title_cleaned :\n",
      "delete git github \n",
      "\n",
      "line : 5192\n",
      "Title :\n",
      "How to load a UIView using a nib file created with Interface Builder \n",
      "\n",
      "Title_cleaned :\n",
      "load uiview using nib file interface builder \n",
      "\n",
      "line : 905\n",
      "Title :\n",
      "The object 'DF__*' is dependent on column '*' - Changing int to double \n",
      "\n",
      "Title_cleaned :\n",
      "object dependent column int double \n",
      "\n",
      "line : 7813\n",
      "Title :\n",
      "Creating a custom ODBC driver \n",
      "\n",
      "Title_cleaned :\n",
      "custom driver \n",
      "\n",
      "line : 2895\n",
      "Title :\n",
      "Replacement for for... if array iteration \n",
      "\n",
      "Title_cleaned :\n",
      "replacement array iteration \n",
      "\n"
     ]
    }
   ],
   "source": [
    "for i in random_line:\n",
    "    print(\"line :\", i)\n",
    "    display_line(i, col=[\"Title\",\"Title_cleaned\"])"
   ]
  },
  {
   "cell_type": "markdown",
   "id": "2d1ad4bc",
   "metadata": {},
   "source": [
    "### Observation : \n",
    "- On voit qu'on a diminuer le nombre de token en s'affranchissant des stopwords entre autre, mais on garde des mots techniques qui était dans nos meilleur tag : **exemple avec git**\n",
    "- Certains mots techniques n'ont pas été conservés : c'est le cas d'**ODBC** (ce tag n'apparait que 6 fois)\n"
   ]
  },
  {
   "cell_type": "code",
   "execution_count": 170,
   "id": "1497320c",
   "metadata": {},
   "outputs": [
    {
     "data": {
      "text/html": [
       "<div>\n",
       "<style scoped>\n",
       "    .dataframe tbody tr th:only-of-type {\n",
       "        vertical-align: middle;\n",
       "    }\n",
       "\n",
       "    .dataframe tbody tr th {\n",
       "        vertical-align: top;\n",
       "    }\n",
       "\n",
       "    .dataframe thead th {\n",
       "        text-align: right;\n",
       "    }\n",
       "</style>\n",
       "<table border=\"1\" class=\"dataframe\">\n",
       "  <thead>\n",
       "    <tr style=\"text-align: right;\">\n",
       "      <th></th>\n",
       "      <th>value</th>\n",
       "    </tr>\n",
       "  </thead>\n",
       "  <tbody>\n",
       "    <tr>\n",
       "      <th>odbc</th>\n",
       "      <td>6</td>\n",
       "    </tr>\n",
       "  </tbody>\n",
       "</table>\n",
       "</div>"
      ],
      "text/plain": [
       "      value\n",
       "odbc      6"
      ]
     },
     "execution_count": 170,
     "metadata": {},
     "output_type": "execute_result"
    }
   ],
   "source": [
    "tag_df[tag_df.index == \"odbc\"]"
   ]
  },
  {
   "cell_type": "markdown",
   "id": "14f86d49",
   "metadata": {},
   "source": [
    "### Nettoyage de Body : \n",
    "- Pour Body, nous l'avons bien constaté, il y a des **balises** hmtl a nettoyé **avant** de pouvoir appliquer le prétraitement de texte. Pour cela nous allons créer une autre fonction de cleaning  :"
   ]
  },
  {
   "cell_type": "code",
   "execution_count": 171,
   "id": "2dd61d71",
   "metadata": {},
   "outputs": [],
   "source": [
    "def clean_balise(doc):\n",
    "        return doc.apply(lambda x: BeautifulSoup(x).get_text())\n"
   ]
  },
  {
   "cell_type": "code",
   "execution_count": 172,
   "id": "5e475c4d",
   "metadata": {},
   "outputs": [],
   "source": [
    "#Suppression des balises\n",
    "df.Body = clean_balise(df.Body)\n",
    "#Prétraitement de text : \n",
    "df[\"Body_cleaned\"] = df[\"Body\"].apply(cleaning)"
   ]
  },
  {
   "cell_type": "code",
   "execution_count": 173,
   "id": "90a2772e",
   "metadata": {
    "scrolled": true
   },
   "outputs": [
    {
     "name": "stdout",
     "output_type": "stream",
     "text": [
      "line : 235\n",
      "Body :\n",
      "I accidentally pushed up files from my .idea directory in my Django project which I had in my .gitignore file. I am trying to completely delete the commit from my bitbucket repository since there is someone else Im working with on the project and he can't pull my changes without affecting his own .idea files. I have seen other SO questions where they say to use git revert, however I remember there was another command where you pushed the last good commit you made, and everything after that was deleted from the master branch. For example\n",
      "Commit History:\n",
      "94ca48e\n",
      "55fab05\n",
      "3813803\n",
      "I want to delete 94ca48e, and 55fab05. There was a command I found once where you could make 3813803 the most current commit, and everything in the remote repository after that commit would be deleted, but I can't find it anywhere.\n",
      " \n",
      "\n",
      "Body_cleaned :\n",
      "accidentally file idea directory django project file trying completely delete commit repository since someone else working project change without affecting idea file seen question say use git revert however remember another command last good commit made everything master branch example commit history want delete command found could make current commit everything remote repository commit would find anywhere \n",
      "\n",
      "line : 5192\n",
      "Body :\n",
      "I'm trying to do something a bit elaborate, but something that should be possible. So here is a challenge for all you experts out there (this forum is a pack of a lot of you guys :) ).\n",
      "I'm creating a Questionnaire \"component\", which I want to load on a NavigationContoller (my QuestionManagerViewController). The \"component\" is an \"empty\" UIViewController, which can load different views depending on the question that needs to be answered.\n",
      "The way I'm doing it is:\n",
      "\n",
      "Create Question1View object as a UIView subclass, defining some IBOutlets.\n",
      "Create (using Interface Builder) the Question1View.xib (HERE IS WHERE MY PROBLEM PROBABLY IS). I set both the UIViewController and the UIView to be of class Question1View. \n",
      "I link the outlets with the view's component (using IB).\n",
      "I override the initWithNib of my QuestionManagerViewController to look like this:\n",
      "- (id)initWithNibName:(NSString *)nibNameOrNil bundle:(NSBundle *)nibBundleOrNil {\n",
      "    if (self = [super initWithNibName:@\"Question1View\" bundle:nibBundleOrNil]) {\n",
      "        // Custom initialization\n",
      "    }\n",
      "    return self;\n",
      "}\n",
      "\n",
      "\n",
      "When I run the code, I'm getting this error:\n",
      "\n",
      "2009-05-14 15:05:37.152 iMobiDines[17148:20b] *** Terminating app due to uncaught exception 'NSInternalInconsistencyException', reason: '-[UIViewController _loadViewFromNibNamed:bundle:] loaded the \"Question1View\" nib but the view outlet was not set.'\n",
      "\n",
      "I'm sure there is a way to load the view using the nib file, without needing to create a viewController class.\n",
      " \n",
      "\n",
      "Body_cleaned :\n",
      "trying something bit elaborate something possible challenge expert forum pack lot guy questionnaire component want load component empty uiviewcontroller load different view depending question need way create object uiview subclass create using interface builder problem probably set uiviewcontroller uiview class link outlet view component using override look like id nsstring bundle super bundle custom initialization return run code getting error due uncaught exception reason uiviewcontroller bundle loaded nib view outlet set sure way load view using nib file without needing create class \n",
      "\n",
      "line : 905\n",
      "Body :\n",
      "Basically I got a table in my EF database with the following properties:\n",
      "public int Id { get; set; }\n",
      "public string Title { get; set; }\n",
      "public string Description { get; set; }\n",
      "public string Image { get; set; }\n",
      "public string WatchUrl { get; set; }\n",
      "public int Year { get; set; }\n",
      "public string Source { get; set; }\n",
      "public int Duration { get; set; }\n",
      "public int Rating { get; set; }\n",
      "public virtual ICollection<Category> Categories { get; set; }\n",
      "\n",
      "It works fine however when I change the int of Rating to be a double I get the following error when updating the database:\n",
      "The object 'DF_Movies_Rating__48CFD27E' is dependent on column 'Rating'.\n",
      "ALTER TABLE ALTER COLUMN Rating failed because one or more objects access this column.\n",
      "What's the issue?\n",
      " \n",
      "\n",
      "Body_cleaned :\n",
      "basically got table database following properties public int id get set public string get set public string description get set public string image get set public string get set public int year get set public string source get set public int duration get set public int get set public virtual category get set work fine however change int double get following error database object dependent column alter table alter column one object access column issue \n",
      "\n",
      "line : 7813\n",
      "Body :\n",
      "At my current job, we're looking to implement our own odbc driver to allow many different applications to be able to connect to our own app as a datasource. Right now we are trying to weigh the options of developing our own driver to the implementation spec, which is massive, or using an SDK that allows for programmers to 'fill in' the data specific parts and allow higher levels of abstraction.\n",
      "Has anyone else implemented a custom odbc driver? What pitfalls did you run into? What benefits did you see from doing it yourself? How many manhours would you approximate it took? Did you use an SDK, and if so, what benefits/downsides did you see from that approach?\n",
      "Any comments and answers would be greatly appreciated. Thanks!\n",
      "EDIT: We are trying to maintain portability with our code, which is written in C.\n",
      " \n",
      "\n",
      "Body_cleaned :\n",
      "current job looking implement driver allow many different application able connect right trying weigh option driver implementation spec massive using programmer data specific part allow higher level abstraction anyone else custom driver pitfall run benefit see many would approximate took use benefit downside see approach comment answer would greatly thanks trying maintain portability code written c \n",
      "\n",
      "line : 2895\n",
      "Body :\n",
      "I love list comprehensions in Python, because they concisely represent a transformation of a list.\n",
      "However, in other languages, I frequently find myself writing something along the lines of:\n",
      "foreach (int x in intArray)\n",
      "  if (x > 3) //generic condition on x\n",
      "    x++ \n",
      "    //do other processing\n",
      "\n",
      "This example is in C#, where I'm under the impression LINQ can help with this, but is there some common programming construct which can replace this slightly less-than-elegant solution?  Perhaps a data structure I'm not considering?\n",
      " \n",
      "\n",
      "Body_cleaned :\n",
      "love list comprehension python concisely represent transformation list however language frequently find writing something along line int x x generic condition x x example c impression linq help common construct replace slightly le elegant perhaps data structure considering \n",
      "\n"
     ]
    }
   ],
   "source": [
    "#Affichage de qlq lignes : \n",
    "for i in random_line:\n",
    "    print(\"line :\", i)\n",
    "    display_line(i, col=[\"Body\",\"Body_cleaned\"])"
   ]
  },
  {
   "cell_type": "markdown",
   "id": "d16ef1f7",
   "metadata": {},
   "source": [
    "### Observation : \n",
    "- La comparaison entre le corpus nettoyé et le corpus : sur le corpus de base on voit que les utilisateurs post leur code, sur le corpus nettoyé, l'architecture du code publiée est perdue, mais cependant, on voit qu'il y a toujours la présence de mots clefs qui peuvent être pertinent\n",
    "\n",
    "- Maintenant que les données ont été nettoyées et prétraitées, nous allons pouvoir passer à la vectorisation afin de proposer une approche **non supervisée**"
   ]
  },
  {
   "cell_type": "markdown",
   "id": "2da24291",
   "metadata": {},
   "source": [
    "# Enregistrement du dataframe : "
   ]
  },
  {
   "cell_type": "code",
   "execution_count": 174,
   "id": "b2155501",
   "metadata": {},
   "outputs": [
    {
     "data": {
      "text/html": [
       "<div>\n",
       "<style scoped>\n",
       "    .dataframe tbody tr th:only-of-type {\n",
       "        vertical-align: middle;\n",
       "    }\n",
       "\n",
       "    .dataframe tbody tr th {\n",
       "        vertical-align: top;\n",
       "    }\n",
       "\n",
       "    .dataframe thead th {\n",
       "        text-align: right;\n",
       "    }\n",
       "</style>\n",
       "<table border=\"1\" class=\"dataframe\">\n",
       "  <thead>\n",
       "    <tr style=\"text-align: right;\">\n",
       "      <th></th>\n",
       "      <th>Title</th>\n",
       "      <th>Body</th>\n",
       "      <th>Tags</th>\n",
       "      <th>Title_cleaned</th>\n",
       "      <th>Body_cleaned</th>\n",
       "    </tr>\n",
       "  </thead>\n",
       "  <tbody>\n",
       "    <tr>\n",
       "      <th>0</th>\n",
       "      <td>Getting parent of a vertex in a perfect binary...</td>\n",
       "      <td>I've got a perfect binary tree that's enumerat...</td>\n",
       "      <td>[algorithm, data-structures, tree, binary-tree...</td>\n",
       "      <td>getting parent vertex perfect binary tree</td>\n",
       "      <td>got perfect binary tree post order way example...</td>\n",
       "    </tr>\n",
       "    <tr>\n",
       "      <th>1</th>\n",
       "      <td>How can I make the cursor turn to the wait cur...</td>\n",
       "      <td>How can I display the Wait/Busy Cursor (usuall...</td>\n",
       "      <td>[c#, .net, winforms, user-interface, mouse-cur...</td>\n",
       "      <td>make cursor turn wait cursor</td>\n",
       "      <td>wait busy cursor usually hourglass user let kn...</td>\n",
       "    </tr>\n",
       "    <tr>\n",
       "      <th>2</th>\n",
       "      <td>HTML Tables - How to make IE not break lines a...</td>\n",
       "      <td>I have some table cells containing dates forma...</td>\n",
       "      <td>[html, css, html-table, internet-explorer-7, l...</td>\n",
       "      <td>html table make ie break line hyphen</td>\n",
       "      <td>table cell date like e breaking two line hyphe...</td>\n",
       "    </tr>\n",
       "    <tr>\n",
       "      <th>3</th>\n",
       "      <td>Python - Supervisor how to log the standard ou...</td>\n",
       "      <td>I'm not expert about python, could someone exp...</td>\n",
       "      <td>[python, linux, python-3.x, unix, supervisord]</td>\n",
       "      <td>python supervisor log standard output</td>\n",
       "      <td>expert python could someone explain problem li...</td>\n",
       "    </tr>\n",
       "    <tr>\n",
       "      <th>4</th>\n",
       "      <td>How to play audio file on windows from command...</td>\n",
       "      <td>In Windows, is there a simple way (i.e. someth...</td>\n",
       "      <td>[windows, command-line, audio, batch-file, mp3]</td>\n",
       "      <td>play audio file windows command line</td>\n",
       "      <td>windows simple way e something could type sing...</td>\n",
       "    </tr>\n",
       "  </tbody>\n",
       "</table>\n",
       "</div>"
      ],
      "text/plain": [
       "                                               Title  \\\n",
       "0  Getting parent of a vertex in a perfect binary...   \n",
       "1  How can I make the cursor turn to the wait cur...   \n",
       "2  HTML Tables - How to make IE not break lines a...   \n",
       "3  Python - Supervisor how to log the standard ou...   \n",
       "4  How to play audio file on windows from command...   \n",
       "\n",
       "                                                Body  \\\n",
       "0  I've got a perfect binary tree that's enumerat...   \n",
       "1  How can I display the Wait/Busy Cursor (usuall...   \n",
       "2  I have some table cells containing dates forma...   \n",
       "3  I'm not expert about python, could someone exp...   \n",
       "4  In Windows, is there a simple way (i.e. someth...   \n",
       "\n",
       "                                                Tags  \\\n",
       "0  [algorithm, data-structures, tree, binary-tree...   \n",
       "1  [c#, .net, winforms, user-interface, mouse-cur...   \n",
       "2  [html, css, html-table, internet-explorer-7, l...   \n",
       "3     [python, linux, python-3.x, unix, supervisord]   \n",
       "4    [windows, command-line, audio, batch-file, mp3]   \n",
       "\n",
       "                               Title_cleaned  \\\n",
       "0  getting parent vertex perfect binary tree   \n",
       "1               make cursor turn wait cursor   \n",
       "2       html table make ie break line hyphen   \n",
       "3      python supervisor log standard output   \n",
       "4       play audio file windows command line   \n",
       "\n",
       "                                        Body_cleaned  \n",
       "0  got perfect binary tree post order way example...  \n",
       "1  wait busy cursor usually hourglass user let kn...  \n",
       "2  table cell date like e breaking two line hyphe...  \n",
       "3  expert python could someone explain problem li...  \n",
       "4  windows simple way e something could type sing...  "
      ]
     },
     "execution_count": 174,
     "metadata": {},
     "output_type": "execute_result"
    }
   ],
   "source": [
    "df.head()"
   ]
  },
  {
   "cell_type": "code",
   "execution_count": 175,
   "id": "f06b8e20",
   "metadata": {
    "scrolled": true
   },
   "outputs": [
    {
     "data": {
      "text/plain": [
       "Title            0\n",
       "Body             0\n",
       "Tags             0\n",
       "Title_cleaned    0\n",
       "Body_cleaned     0\n",
       "dtype: int64"
      ]
     },
     "execution_count": 175,
     "metadata": {},
     "output_type": "execute_result"
    }
   ],
   "source": [
    "df.isnull().sum()"
   ]
  },
  {
   "cell_type": "code",
   "execution_count": 176,
   "id": "1fa5237e",
   "metadata": {},
   "outputs": [
    {
     "data": {
      "text/plain": [
       "(10000, 5)"
      ]
     },
     "execution_count": 176,
     "metadata": {},
     "output_type": "execute_result"
    }
   ],
   "source": [
    "df.shape"
   ]
  },
  {
   "cell_type": "code",
   "execution_count": 177,
   "id": "aaadf2eb",
   "metadata": {},
   "outputs": [],
   "source": [
    "#avec suppression des token qui ne sont pas des eng words \n",
    "#+ préservation des toptags (n'ont pas été touché par preprocessing)  : \n",
    "df.to_csv(path + \"\\\\df_cleaned_2.csv\")"
   ]
  },
  {
   "cell_type": "code",
   "execution_count": 23,
   "id": "af573e1b",
   "metadata": {},
   "outputs": [],
   "source": [
    "df = pd.read_csv(path + \"\\\\df_cleaned_2.csv\")"
   ]
  },
  {
   "cell_type": "code",
   "execution_count": 25,
   "id": "07f86724",
   "metadata": {},
   "outputs": [
    {
     "data": {
      "text/html": [
       "<div>\n",
       "<style scoped>\n",
       "    .dataframe tbody tr th:only-of-type {\n",
       "        vertical-align: middle;\n",
       "    }\n",
       "\n",
       "    .dataframe tbody tr th {\n",
       "        vertical-align: top;\n",
       "    }\n",
       "\n",
       "    .dataframe thead th {\n",
       "        text-align: right;\n",
       "    }\n",
       "</style>\n",
       "<table border=\"1\" class=\"dataframe\">\n",
       "  <thead>\n",
       "    <tr style=\"text-align: right;\">\n",
       "      <th></th>\n",
       "      <th>Unnamed: 0</th>\n",
       "      <th>Title</th>\n",
       "      <th>Body</th>\n",
       "      <th>Tags</th>\n",
       "      <th>Title_cleaned</th>\n",
       "      <th>Body_cleaned</th>\n",
       "    </tr>\n",
       "  </thead>\n",
       "  <tbody>\n",
       "    <tr>\n",
       "      <th>0</th>\n",
       "      <td>0</td>\n",
       "      <td>Getting parent of a vertex in a perfect binary...</td>\n",
       "      <td>I've got a perfect binary tree that's enumerat...</td>\n",
       "      <td>['algorithm', 'data-structures', 'tree', 'bina...</td>\n",
       "      <td>getting parent vertex perfect binary tree</td>\n",
       "      <td>got perfect binary tree post order way example...</td>\n",
       "    </tr>\n",
       "    <tr>\n",
       "      <th>1</th>\n",
       "      <td>1</td>\n",
       "      <td>How can I make the cursor turn to the wait cur...</td>\n",
       "      <td>How can I display the Wait/Busy Cursor (usuall...</td>\n",
       "      <td>['c#', '.net', 'winforms', 'user-interface', '...</td>\n",
       "      <td>make cursor turn wait cursor</td>\n",
       "      <td>wait busy cursor usually hourglass user let kn...</td>\n",
       "    </tr>\n",
       "    <tr>\n",
       "      <th>2</th>\n",
       "      <td>2</td>\n",
       "      <td>HTML Tables - How to make IE not break lines a...</td>\n",
       "      <td>I have some table cells containing dates forma...</td>\n",
       "      <td>['html', 'css', 'html-table', 'internet-explor...</td>\n",
       "      <td>html table make ie break line hyphen</td>\n",
       "      <td>table cell date like e breaking two line hyphe...</td>\n",
       "    </tr>\n",
       "    <tr>\n",
       "      <th>3</th>\n",
       "      <td>3</td>\n",
       "      <td>Python - Supervisor how to log the standard ou...</td>\n",
       "      <td>I'm not expert about python, could someone exp...</td>\n",
       "      <td>['python', 'linux', 'python-3.x', 'unix', 'sup...</td>\n",
       "      <td>python supervisor log standard output</td>\n",
       "      <td>expert python could someone explain problem li...</td>\n",
       "    </tr>\n",
       "    <tr>\n",
       "      <th>4</th>\n",
       "      <td>4</td>\n",
       "      <td>How to play audio file on windows from command...</td>\n",
       "      <td>In Windows, is there a simple way (i.e. someth...</td>\n",
       "      <td>['windows', 'command-line', 'audio', 'batch-fi...</td>\n",
       "      <td>play audio file windows command line</td>\n",
       "      <td>windows simple way e something could type sing...</td>\n",
       "    </tr>\n",
       "    <tr>\n",
       "      <th>...</th>\n",
       "      <td>...</td>\n",
       "      <td>...</td>\n",
       "      <td>...</td>\n",
       "      <td>...</td>\n",
       "      <td>...</td>\n",
       "      <td>...</td>\n",
       "    </tr>\n",
       "    <tr>\n",
       "      <th>9995</th>\n",
       "      <td>9995</td>\n",
       "      <td>Python Earth Mover Distance of 2D arrays</td>\n",
       "      <td>I would like to compute the Earth Mover Distan...</td>\n",
       "      <td>['python', 'scipy', 'statistics', 'distributio...</td>\n",
       "      <td>python earth mover distance arrays</td>\n",
       "      <td>would like compute earth mover distance two ar...</td>\n",
       "    </tr>\n",
       "    <tr>\n",
       "      <th>9996</th>\n",
       "      <td>9996</td>\n",
       "      <td>Mocha/Chai async tests 'done()' fn not working</td>\n",
       "      <td>I'm testing a bank model I have as follows:\\nd...</td>\n",
       "      <td>['javascript', 'unit-testing', 'backbone.js', ...</td>\n",
       "      <td>mocha chai test done working</td>\n",
       "      <td>testing bank model describe bank model ajax fu...</td>\n",
       "    </tr>\n",
       "    <tr>\n",
       "      <th>9997</th>\n",
       "      <td>9997</td>\n",
       "      <td>nServiceBus, Rhino Service Bus, MassTransit - ...</td>\n",
       "      <td>Hey people would love to hear about any resour...</td>\n",
       "      <td>['c#', 'nservicebus', 'rhino', 'servicebus', '...</td>\n",
       "      <td>service video demo learning resources</td>\n",
       "      <td>hey people would love hear resources know serv...</td>\n",
       "    </tr>\n",
       "    <tr>\n",
       "      <th>9998</th>\n",
       "      <td>9998</td>\n",
       "      <td>MongoDb with FastAPI</td>\n",
       "      <td>I am playing around with FastAPI a bit and wan...</td>\n",
       "      <td>['mongodb', 'mongoengine', 'tornado-motor', 'f...</td>\n",
       "      <td>mongodb</td>\n",
       "      <td>around bit connect mongodb database however co...</td>\n",
       "    </tr>\n",
       "    <tr>\n",
       "      <th>9999</th>\n",
       "      <td>9999</td>\n",
       "      <td>Extracting the song frequency of an mp3 file u...</td>\n",
       "      <td>I am using the HTML5 web audio API to analyse ...</td>\n",
       "      <td>['javascript', 'html', 'audio', 'mp3', 'arrayb...</td>\n",
       "      <td>song frequency file using web audio api</td>\n",
       "      <td>using web audio api analyse song create averag...</td>\n",
       "    </tr>\n",
       "  </tbody>\n",
       "</table>\n",
       "<p>10000 rows × 6 columns</p>\n",
       "</div>"
      ],
      "text/plain": [
       "      Unnamed: 0                                              Title  \\\n",
       "0              0  Getting parent of a vertex in a perfect binary...   \n",
       "1              1  How can I make the cursor turn to the wait cur...   \n",
       "2              2  HTML Tables - How to make IE not break lines a...   \n",
       "3              3  Python - Supervisor how to log the standard ou...   \n",
       "4              4  How to play audio file on windows from command...   \n",
       "...          ...                                                ...   \n",
       "9995        9995           Python Earth Mover Distance of 2D arrays   \n",
       "9996        9996     Mocha/Chai async tests 'done()' fn not working   \n",
       "9997        9997  nServiceBus, Rhino Service Bus, MassTransit - ...   \n",
       "9998        9998                               MongoDb with FastAPI   \n",
       "9999        9999  Extracting the song frequency of an mp3 file u...   \n",
       "\n",
       "                                                   Body  \\\n",
       "0     I've got a perfect binary tree that's enumerat...   \n",
       "1     How can I display the Wait/Busy Cursor (usuall...   \n",
       "2     I have some table cells containing dates forma...   \n",
       "3     I'm not expert about python, could someone exp...   \n",
       "4     In Windows, is there a simple way (i.e. someth...   \n",
       "...                                                 ...   \n",
       "9995  I would like to compute the Earth Mover Distan...   \n",
       "9996  I'm testing a bank model I have as follows:\\nd...   \n",
       "9997  Hey people would love to hear about any resour...   \n",
       "9998  I am playing around with FastAPI a bit and wan...   \n",
       "9999  I am using the HTML5 web audio API to analyse ...   \n",
       "\n",
       "                                                   Tags  \\\n",
       "0     ['algorithm', 'data-structures', 'tree', 'bina...   \n",
       "1     ['c#', '.net', 'winforms', 'user-interface', '...   \n",
       "2     ['html', 'css', 'html-table', 'internet-explor...   \n",
       "3     ['python', 'linux', 'python-3.x', 'unix', 'sup...   \n",
       "4     ['windows', 'command-line', 'audio', 'batch-fi...   \n",
       "...                                                 ...   \n",
       "9995  ['python', 'scipy', 'statistics', 'distributio...   \n",
       "9996  ['javascript', 'unit-testing', 'backbone.js', ...   \n",
       "9997  ['c#', 'nservicebus', 'rhino', 'servicebus', '...   \n",
       "9998  ['mongodb', 'mongoengine', 'tornado-motor', 'f...   \n",
       "9999  ['javascript', 'html', 'audio', 'mp3', 'arrayb...   \n",
       "\n",
       "                                  Title_cleaned  \\\n",
       "0     getting parent vertex perfect binary tree   \n",
       "1                  make cursor turn wait cursor   \n",
       "2          html table make ie break line hyphen   \n",
       "3         python supervisor log standard output   \n",
       "4          play audio file windows command line   \n",
       "...                                         ...   \n",
       "9995         python earth mover distance arrays   \n",
       "9996               mocha chai test done working   \n",
       "9997      service video demo learning resources   \n",
       "9998                                    mongodb   \n",
       "9999    song frequency file using web audio api   \n",
       "\n",
       "                                           Body_cleaned  \n",
       "0     got perfect binary tree post order way example...  \n",
       "1     wait busy cursor usually hourglass user let kn...  \n",
       "2     table cell date like e breaking two line hyphe...  \n",
       "3     expert python could someone explain problem li...  \n",
       "4     windows simple way e something could type sing...  \n",
       "...                                                 ...  \n",
       "9995  would like compute earth mover distance two ar...  \n",
       "9996  testing bank model describe bank model ajax fu...  \n",
       "9997  hey people would love hear resources know serv...  \n",
       "9998  around bit connect mongodb database however co...  \n",
       "9999  using web audio api analyse song create averag...  \n",
       "\n",
       "[10000 rows x 6 columns]"
      ]
     },
     "execution_count": 25,
     "metadata": {},
     "output_type": "execute_result"
    }
   ],
   "source": [
    "df"
   ]
  },
  {
   "cell_type": "code",
   "execution_count": 26,
   "id": "ff92fb8a",
   "metadata": {
    "scrolled": true
   },
   "outputs": [
    {
     "data": {
      "text/plain": [
       "Index(['Unnamed: 0', 'Title', 'Body', 'Tags', 'Title_cleaned', 'Body_cleaned'], dtype='object')"
      ]
     },
     "execution_count": 26,
     "metadata": {},
     "output_type": "execute_result"
    }
   ],
   "source": [
    "df.columns"
   ]
  },
  {
   "cell_type": "code",
   "execution_count": 27,
   "id": "a7c32f3e",
   "metadata": {},
   "outputs": [
    {
     "name": "stdout",
     "output_type": "stream",
     "text": [
      "Title_cleaned :\n",
      "net \n",
      "\n",
      "Body_cleaned :\n",
      "trying get head around extensibility framework moment digging bit eclipse background brain currently equation net based far right line \n",
      "\n",
      "Tags :\n",
      "['.net', 'eclipse', 'plugins', 'osgi', 'mef'] \n",
      "\n"
     ]
    }
   ],
   "source": [
    "display_line(9000, col = [\"Title_cleaned\",\"Body_cleaned\", \"Tags\"])"
   ]
  }
 ],
 "metadata": {
  "kernelspec": {
   "display_name": "Python 3 (ipykernel)",
   "language": "python",
   "name": "python3"
  },
  "language_info": {
   "codemirror_mode": {
    "name": "ipython",
    "version": 3
   },
   "file_extension": ".py",
   "mimetype": "text/x-python",
   "name": "python",
   "nbconvert_exporter": "python",
   "pygments_lexer": "ipython3",
   "version": "3.8.13"
  }
 },
 "nbformat": 4,
 "nbformat_minor": 5
}
